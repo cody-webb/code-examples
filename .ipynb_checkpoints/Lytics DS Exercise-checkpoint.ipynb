{
 "cells": [
  {
   "cell_type": "code",
   "execution_count": 21,
   "metadata": {},
   "outputs": [],
   "source": [
    "import json\n",
    "import pandas as pd\n",
    "import matplotlib.pyplot as plt\n",
    "from sklearn.cluster import KMeans\n",
    "import numpy as np"
   ]
  },
  {
   "cell_type": "markdown",
   "metadata": {},
   "source": [
    "Nodes\n",
    "\n",
    "Each node contains the following properties:\n",
    "\n",
    "● name: A description of the node.\n",
    "\n",
    "● prevalence​: The relative prevalence of the node in the underlying inventory.\n",
    "\n",
    "● x​: A projected x-coordinate from a force-directed simulation in a Cartesian space.\n",
    "\n",
    "● y​: A projected y-coordinate from a force-directed simulation in a Cartesian space.\n",
    "\n",
    "Links\n",
    "\n",
    "Each link contains the following properties:\n",
    "\n",
    "● source​: Index of the source node in the node list.\n",
    "\n",
    "● target​: Index of the target/destination node in the node list.\n",
    "\n",
    "● value​: The weight of the edge connecting the source and target nodes."
   ]
  },
  {
   "cell_type": "code",
   "execution_count": 27,
   "metadata": {},
   "outputs": [
    {
     "name": "stdout",
     "output_type": "stream",
     "text": [
      "                 name  prevalence         x         y  index\n",
      "0          Bill Maher      1.0000  -85.1569 -137.9791      0\n",
      "1         John Oliver      0.9730  268.7907   57.8283      1\n",
      "2       United States      0.8595   36.1653 -194.3289      2\n",
      "3    Tyrion Lannister      0.8595  179.9301 -253.6939      3\n",
      "4  Daenerys Targaryen      0.7730  178.8628 -255.9866      4\n",
      "\n",
      "\n",
      "   source  target   value\n",
      "0      13       0  0.6698\n",
      "1     187       0  0.7381\n",
      "2     285       0  1.0000\n",
      "3     287       0  1.0000\n",
      "4      36       1  1.0000\n"
     ]
    }
   ],
   "source": [
    "with open(\"/Users/codywebb/Downloads/graph.json\") as f:\n",
    "    data = json.load(f)\n",
    "\n",
    "nodes = pd.DataFrame(data[\"nodes\"])\n",
    "links = pd.DataFrame(data[\"links\"])\n",
    "\n",
    "#nodes['index'] = nodes.index\n",
    "\n",
    "print(nodes.head())\n",
    "print('\\n')\n",
    "print(links.head())"
   ]
  },
  {
   "cell_type": "code",
   "execution_count": 24,
   "metadata": {},
   "outputs": [
    {
     "data": {
      "text/plain": [
       "<matplotlib.collections.PathCollection at 0x7fb09cb4dac8>"
      ]
     },
     "execution_count": 24,
     "metadata": {},
     "output_type": "execute_result"
    },
    {
     "data": {
      "image/png": "[encoded data removed]",
      "text/plain": [
       "<Figure size 432x288 with 1 Axes>"
      ]
     },
     "metadata": {
      "needs_background": "light"
     },
     "output_type": "display_data"
    }
   ],
   "source": [
    "plt.scatter(nodes['x'], nodes['y'], marker = '.')"
   ]
  },
  {
   "cell_type": "code",
   "execution_count": 40,
   "metadata": {},
   "outputs": [
    {
     "data": {
      "text/plain": [
       "0.6698"
      ]
     },
     "execution_count": 40,
     "metadata": {},
     "output_type": "execute_result"
    }
   ],
   "source": [
    "nodes.loc[nodes.index == 0]\n",
    "\n",
    "#x['x'][0]\n",
    "links['value'][0]"
   ]
  },
  {
   "cell_type": "markdown",
   "metadata": {},
   "source": [
    "We have two quantities A_1 and A_2 with coordinates (x_1, y_1) and (x_2, y_2) respectively, with individual prevelances p_1 and p_2 respectively, and an edge weight of w_1_2.\n",
    "\n",
    "I will define the \"distance\" between A_1 and A_2 as \n",
    "\n",
    "d = (1.5 - $p_1$)(1.5 - $p_2$)(1.5 - $w_{1_2}$)$\\sqrt{(y_2 - y_1)^2 + (x_2 - x_1)^2}$"
   ]
  },
  {
   "cell_type": "code",
   "execution_count": 41,
   "metadata": {},
   "outputs": [],
   "source": [
    "distance_list = []\n",
    "\n",
    "for i in range(len(links)): \n",
    "    source = links['source'][i]\n",
    "    target = links['target'][i]\n",
    "    \n",
    "    ys = nodes['y'][source]\n",
    "    yt = nodes['y'][target]\n",
    "    xs = nodes['x'][source]\n",
    "    xt = nodes['x'][target]\n",
    "    ps = nodes['prevalence'][source]\n",
    "    pt = nodes['prevalence'][target]\n",
    "    value = links['value'][i]\n",
    "    \n",
    "    distance = (1.5 - ps) * (1.5 - pt) * (1.5 * value) * ((ys - yt) ** 2 + (xs - xt)** 2) ** 0.5\n",
    "    \n",
    "    distance_list.append(distance) \n",
    "    \n",
    "links['distance'] = distance_list"
   ]
  },
  {
   "cell_type": "code",
   "execution_count": 46,
   "metadata": {},
   "outputs": [
    {
     "data": {
      "text/html": [
       "<div>\n",
       "<style scoped>\n",
       "    .dataframe tbody tr th:only-of-type {\n",
       "        vertical-align: middle;\n",
       "    }\n",
       "\n",
       "    .dataframe tbody tr th {\n",
       "        vertical-align: top;\n",
       "    }\n",
       "\n",
       "    .dataframe thead th {\n",
       "        text-align: right;\n",
       "    }\n",
       "</style>\n",
       "<table border=\"1\" class=\"dataframe\">\n",
       "  <thead>\n",
       "    <tr style=\"text-align: right;\">\n",
       "      <th></th>\n",
       "      <th>source</th>\n",
       "      <th>target</th>\n",
       "      <th>value</th>\n",
       "      <th>distance</th>\n",
       "    </tr>\n",
       "  </thead>\n",
       "  <tbody>\n",
       "    <tr>\n",
       "      <th>3933</th>\n",
       "      <td>254</td>\n",
       "      <td>181</td>\n",
       "      <td>0.1389</td>\n",
       "      <td>0.541615</td>\n",
       "    </tr>\n",
       "    <tr>\n",
       "      <th>140</th>\n",
       "      <td>29</td>\n",
       "      <td>4</td>\n",
       "      <td>0.5426</td>\n",
       "      <td>0.792279</td>\n",
       "    </tr>\n",
       "    <tr>\n",
       "      <th>4657</th>\n",
       "      <td>582</td>\n",
       "      <td>251</td>\n",
       "      <td>0.1667</td>\n",
       "      <td>0.824342</td>\n",
       "    </tr>\n",
       "    <tr>\n",
       "      <th>1079</th>\n",
       "      <td>65</td>\n",
       "      <td>30</td>\n",
       "      <td>0.1558</td>\n",
       "      <td>0.881527</td>\n",
       "    </tr>\n",
       "    <tr>\n",
       "      <th>57</th>\n",
       "      <td>63</td>\n",
       "      <td>3</td>\n",
       "      <td>0.6000</td>\n",
       "      <td>0.894824</td>\n",
       "    </tr>\n",
       "    <tr>\n",
       "      <th>3787</th>\n",
       "      <td>254</td>\n",
       "      <td>168</td>\n",
       "      <td>0.1944</td>\n",
       "      <td>0.926796</td>\n",
       "    </tr>\n",
       "    <tr>\n",
       "      <th>1625</th>\n",
       "      <td>65</td>\n",
       "      <td>52</td>\n",
       "      <td>0.2078</td>\n",
       "      <td>1.007506</td>\n",
       "    </tr>\n",
       "    <tr>\n",
       "      <th>244</th>\n",
       "      <td>105</td>\n",
       "      <td>5</td>\n",
       "      <td>0.5738</td>\n",
       "      <td>1.026660</td>\n",
       "    </tr>\n",
       "    <tr>\n",
       "      <th>6532</th>\n",
       "      <td>859</td>\n",
       "      <td>574</td>\n",
       "      <td>0.2500</td>\n",
       "      <td>1.038282</td>\n",
       "    </tr>\n",
       "    <tr>\n",
       "      <th>3825</th>\n",
       "      <td>320</td>\n",
       "      <td>170</td>\n",
       "      <td>0.1071</td>\n",
       "      <td>1.048441</td>\n",
       "    </tr>\n",
       "    <tr>\n",
       "      <th>1143</th>\n",
       "      <td>35</td>\n",
       "      <td>31</td>\n",
       "      <td>0.2088</td>\n",
       "      <td>1.111062</td>\n",
       "    </tr>\n",
       "    <tr>\n",
       "      <th>4550</th>\n",
       "      <td>251</td>\n",
       "      <td>239</td>\n",
       "      <td>0.2500</td>\n",
       "      <td>1.111614</td>\n",
       "    </tr>\n",
       "    <tr>\n",
       "      <th>3687</th>\n",
       "      <td>812</td>\n",
       "      <td>161</td>\n",
       "      <td>0.1538</td>\n",
       "      <td>1.151010</td>\n",
       "    </tr>\n",
       "    <tr>\n",
       "      <th>43</th>\n",
       "      <td>4</td>\n",
       "      <td>3</td>\n",
       "      <td>0.6643</td>\n",
       "      <td>1.173410</td>\n",
       "    </tr>\n",
       "    <tr>\n",
       "      <th>1091</th>\n",
       "      <td>125</td>\n",
       "      <td>30</td>\n",
       "      <td>0.3333</td>\n",
       "      <td>1.189745</td>\n",
       "    </tr>\n",
       "    <tr>\n",
       "      <th>1636</th>\n",
       "      <td>124</td>\n",
       "      <td>52</td>\n",
       "      <td>0.2105</td>\n",
       "      <td>1.208020</td>\n",
       "    </tr>\n",
       "    <tr>\n",
       "      <th>2176</th>\n",
       "      <td>125</td>\n",
       "      <td>78</td>\n",
       "      <td>0.2105</td>\n",
       "      <td>1.210417</td>\n",
       "    </tr>\n",
       "    <tr>\n",
       "      <th>3697</th>\n",
       "      <td>199</td>\n",
       "      <td>163</td>\n",
       "      <td>0.2750</td>\n",
       "      <td>1.210429</td>\n",
       "    </tr>\n",
       "    <tr>\n",
       "      <th>1152</th>\n",
       "      <td>82</td>\n",
       "      <td>31</td>\n",
       "      <td>0.3182</td>\n",
       "      <td>1.224594</td>\n",
       "    </tr>\n",
       "    <tr>\n",
       "      <th>4552</th>\n",
       "      <td>320</td>\n",
       "      <td>239</td>\n",
       "      <td>0.1429</td>\n",
       "      <td>1.229988</td>\n",
       "    </tr>\n",
       "  </tbody>\n",
       "</table>\n",
       "</div>"
      ],
      "text/plain": [
       "      source  target   value  distance\n",
       "3933     254     181  0.1389  0.541615\n",
       "140       29       4  0.5426  0.792279\n",
       "4657     582     251  0.1667  0.824342\n",
       "1079      65      30  0.1558  0.881527\n",
       "57        63       3  0.6000  0.894824\n",
       "3787     254     168  0.1944  0.926796\n",
       "1625      65      52  0.2078  1.007506\n",
       "244      105       5  0.5738  1.026660\n",
       "6532     859     574  0.2500  1.038282\n",
       "3825     320     170  0.1071  1.048441\n",
       "1143      35      31  0.2088  1.111062\n",
       "4550     251     239  0.2500  1.111614\n",
       "3687     812     161  0.1538  1.151010\n",
       "43         4       3  0.6643  1.173410\n",
       "1091     125      30  0.3333  1.189745\n",
       "1636     124      52  0.2105  1.208020\n",
       "2176     125      78  0.2105  1.210417\n",
       "3697     199     163  0.2750  1.210429\n",
       "1152      82      31  0.3182  1.224594\n",
       "4552     320     239  0.1429  1.229988"
      ]
     },
     "execution_count": 46,
     "metadata": {},
     "output_type": "execute_result"
    }
   ],
   "source": [
    "links.sort_values(by ='distance').head(20)"
   ]
  },
  {
   "cell_type": "code",
   "execution_count": null,
   "metadata": {},
   "outputs": [],
   "source": [
    "# Create a k-means clustering algorithm to see what clusters occur, and then maybe look into the revised \n",
    "# distance metric I created to see if that affects anything. "
   ]
  }
 ],
 "metadata": {
  "kernelspec": {
   "display_name": "Python 3",
   "language": "python",
   "name": "python3"
  },
  "language_info": {
   "codemirror_mode": {
    "name": "ipython",
    "version": 3
   },
   "file_extension": ".py",
   "mimetype": "text/x-python",
   "name": "python",
   "nbconvert_exporter": "python",
   "pygments_lexer": "ipython3",
   "version": "3.7.3"
  }
 },
 "nbformat": 4,
 "nbformat_minor": 2
}
