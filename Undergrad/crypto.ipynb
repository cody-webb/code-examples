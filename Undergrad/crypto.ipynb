{
 "cells": [
  {
   "cell_type": "markdown",
   "metadata": {
    "deletable": true,
    "editable": true
   },
   "source": [
    "# <span style=\"color:teal;\">CIS 211 Project 2:  Cryptography</span>"
   ]
  },
  {
   "cell_type": "markdown",
   "metadata": {
    "deletable": true,
    "editable": true
   },
   "source": [
    "##### Due 11:00 P.M. April 14, 2017"
   ]
  },
  {
   "cell_type": "markdown",
   "metadata": {
    "deletable": true,
    "editable": true
   },
   "source": [
    "##### Reading:  M&R 3.1 -- 3.3, 3.5; &nbsp; 8.1 -- 8.2, 8.4.1 -- 8.4.4"
   ]
  },
  {
   "cell_type": "markdown",
   "metadata": {
    "deletable": true,
    "editable": true
   },
   "source": [
    "This week we're going to use simple encryption and decryption algorithms as a way of exploring strings and containers (lists, dictionaries, and sets) in Python.\n",
    "\n",
    "Encryption is described in Chapter 3 of the textbook.  You should understand how the **substitution cipher** works -- you don't need to understand the details of any of the Python functions that implement the method, but you should know what it means to encode a piece of text with this kind of cipher.\n",
    "\n",
    "Writing a function that decrypts a piece of text (assuming it really was encrypted with a substitution cipher) is not too hard, compared to other forms of encryption, but still more than we want to do in a one-week project.  Instead of developing a complete algorithm that will decrypt a piece of text we'll write a few small \"helper functions\" that might be useful as part of a larger application.\n"
   ]
  },
  {
   "cell_type": "markdown",
   "metadata": {
    "deletable": true,
    "editable": true
   },
   "source": [
    "###  <span style=\"color:teal\">Imports</span>"
   ]
  },
  {
   "cell_type": "code",
   "execution_count": 3,
   "metadata": {
    "collapsed": true,
    "deletable": true,
    "editable": true
   },
   "outputs": [],
   "source": [
    "from string import punctuation, ascii_uppercase, ascii_lowercase"
   ]
  },
  {
   "cell_type": "markdown",
   "metadata": {
    "deletable": true,
    "editable": true
   },
   "source": [
    "###  <span style=\"color:teal\">Test Data</span>"
   ]
  },
  {
   "cell_type": "code",
   "execution_count": 30,
   "metadata": {
    "collapsed": false,
    "deletable": true,
    "editable": true
   },
   "outputs": [
    {
     "name": "stdout",
     "output_type": "stream",
     "text": [
      "\n",
      "UEK XZIV, MOU XZIV,\n",
      "RKP XZIV, QHGK XZIV.\n",
      "\n"
     ]
    }
   ],
   "source": [
    "seuss = '\\nUEK XZIV, MOU XZIV,\\nRKP XZIV, QHGK XZIV.\\n'\n",
    "print(seuss)"
   ]
  },
  {
   "cell_type": "markdown",
   "metadata": {
    "deletable": true,
    "editable": true
   },
   "source": [
    "###  <span style=\"color:teal\">Project 1: &nbsp; Ciphertext Words (20 points)</span>"
   ]
  },
  {
   "cell_type": "markdown",
   "metadata": {
    "deletable": true,
    "editable": true
   },
   "source": [
    "Fill in the body of the function named `cipher_words`.  It will be passed a string containing a \"cryptoquote\", and it should return the set of words in the quote.  All punctuation should be stripped from the ends of words (but not in the middle).\n",
    "\n",
    "Example:\n",
    "```\n",
    ">>> cipher_words(suess)\n",
    "{'MOU', 'QHGK', 'RKP', 'UEK', 'XZIV'}\n",
    "```\n",
    "\n",
    "**Style (2 points):** This function can be written without a `for` loop, using set comprehension."
   ]
  },
  {
   "cell_type": "markdown",
   "metadata": {
    "deletable": true,
    "editable": true
   },
   "source": [
    "##### <span style=\"color:red\">Code</span>"
   ]
  },
  {
   "cell_type": "code",
   "execution_count": 48,
   "metadata": {
    "collapsed": false,
    "deletable": false,
    "editable": true,
    "nbgrader": {
     "checksum": "ca84339289c49a3aebf974b8d28ea633",
     "grade": true,
     "grade_id": "cipher_words",
     "locked": false,
     "points": 10,
     "schema_version": 1,
     "solution": true
    }
   },
   "outputs": [],
   "source": [
    "def cipher_words(text):\n",
    "    '''\n",
    "    Takes a string and returns a list of all unique words in the string.\n",
    "    \n",
    "    :param str text: String of a cipher\n",
    "    :return: A set of all the unique words in the cipher\n",
    "    :rtype: set\n",
    "    '''\n",
    "    \n",
    "    thing = set(text.strip().split())\n",
    "    return {part.strip(punctuation) for part in thing}"
   ]
  },
  {
   "cell_type": "markdown",
   "metadata": {
    "deletable": true,
    "editable": true
   },
   "source": [
    "##### <span style=\"color:red\">Autograder Tests</span>"
   ]
  },
  {
   "cell_type": "code",
   "execution_count": 47,
   "metadata": {
    "collapsed": false,
    "deletable": false,
    "editable": false,
    "nbgrader": {
     "checksum": "b60c6756927b3c427ff31494d4aaeabd",
     "grade": true,
     "grade_id": "cipher_words_test",
     "locked": true,
     "points": 5,
     "schema_version": 1,
     "solution": false
    }
   },
   "outputs": [],
   "source": [
    "# pass the example text to the function, make sure 5 words are returned\n",
    "words = cipher_words(seuss)\n",
    "assert len(words) == 5\n",
    "\n",
    "# look up each word in the result set\n",
    "for w in ['MOU', 'QHGK', 'RKP', 'UEK', 'XZIV']:\n",
    "    assert w in words"
   ]
  },
  {
   "cell_type": "markdown",
   "metadata": {
    "deletable": true,
    "editable": true
   },
   "source": [
    "##### <span style=\"color:red\">Documentation</span>"
   ]
  },
  {
   "cell_type": "markdown",
   "metadata": {
    "deletable": false,
    "editable": true,
    "nbgrader": {
     "checksum": "59d96420e8802b5885f0d2d5197eb6c0",
     "grade": true,
     "grade_id": "cipher_words_doc",
     "locked": false,
     "points": 5,
     "schema_version": 1,
     "solution": true
    }
   },
   "source": [
    "Takes a string and strips it into a set with all of the unique words, but with punctuation still intact (thing). The function then returns a set of all unique words by taking the words in thing, stripping them of all punctuation, and then placing them into a set. Any words that are the same, but were determined to be different because of the punctuation are taken care of in this step.\n",
    "\n",
    "Returns a set of all the unique words. "
   ]
  },
  {
   "cell_type": "markdown",
   "metadata": {
    "deletable": true,
    "editable": true
   },
   "source": [
    "###  <span style=\"color:teal\">Project 2: &nbsp; Count Ciphertext Letters (20 points)</span>"
   ]
  },
  {
   "cell_type": "markdown",
   "metadata": {
    "deletable": true,
    "editable": true
   },
   "source": [
    "Fill in the body of the `count_unsolved` function.  It will be passed a single word, and it should return the number of unique ciphertext (upper case) letters in the word.\n",
    "\n",
    "Examples:\n",
    "```\n",
    ">>> count_unsolved('XZIV')\n",
    "4\n",
    "\n",
    ">>> count_unsolved('QTETET')\n",
    "3\n",
    "```\n",
    "Note how there are 6 letters in the second example, but some are repeated.  There are only 3 different letters:  Q, E, and T."
   ]
  },
  {
   "cell_type": "markdown",
   "metadata": {
    "deletable": true,
    "editable": true
   },
   "source": [
    "##### <span style=\"color:red\">Code</span>"
   ]
  },
  {
   "cell_type": "code",
   "execution_count": 7,
   "metadata": {
    "collapsed": false,
    "deletable": false,
    "editable": true,
    "nbgrader": {
     "checksum": "ef976e4b3152d525a7f3951ddab400f2",
     "grade": true,
     "grade_id": "count_unsolved",
     "locked": false,
     "points": 10,
     "schema_version": 1,
     "solution": true
    }
   },
   "outputs": [],
   "source": [
    "def count_unsolved(word):\n",
    "    '''\n",
    "    Takes a single word and returns the number of unsolved letters.\n",
    "    \n",
    "    :param str word: Word that has some combination of solved and unsolved letters.\n",
    "    :return: The number of letters that remain unsolved\n",
    "    :rtype: int\n",
    "    '''\n",
    "    unique = \"\"\n",
    "    count = 0\n",
    "    for char in word:\n",
    "        if char in ascii_uppercase: \n",
    "            if char not in unique:\n",
    "                unique += char\n",
    "                count += 1\n",
    "    return count"
   ]
  },
  {
   "cell_type": "markdown",
   "metadata": {
    "deletable": true,
    "editable": true
   },
   "source": [
    "##### <span style=\"color:red\">Autograder Tests</span>"
   ]
  },
  {
   "cell_type": "code",
   "execution_count": 31,
   "metadata": {
    "collapsed": false,
    "deletable": false,
    "editable": false,
    "nbgrader": {
     "checksum": "361e99afccb216b7e3081b8734d0b8fa",
     "grade": true,
     "grade_id": "count_unsolved_test_1",
     "locked": true,
     "points": 1,
     "schema_version": 1,
     "solution": false
    }
   },
   "outputs": [],
   "source": [
    "# each letter in this string is unique\n",
    "assert count_unsolved('XZIV') == 4"
   ]
  },
  {
   "cell_type": "code",
   "execution_count": 32,
   "metadata": {
    "collapsed": false,
    "deletable": false,
    "editable": false,
    "nbgrader": {
     "checksum": "e8c00a4e8def006c5fd60fa400c06455",
     "grade": true,
     "grade_id": "count_unsolved_test_2",
     "locked": true,
     "points": 1,
     "schema_version": 1,
     "solution": false
    }
   },
   "outputs": [],
   "source": [
    "# there are only 3 unique letters in this string\n",
    "assert count_unsolved('QTETET') == 3"
   ]
  },
  {
   "cell_type": "code",
   "execution_count": 33,
   "metadata": {
    "collapsed": true,
    "deletable": false,
    "editable": false,
    "nbgrader": {
     "checksum": "ac7110c3510e7daaaadc9b7ce3a4d4e7",
     "grade": true,
     "grade_id": "count_unsolved_test_3",
     "locked": true,
     "points": 1,
     "schema_version": 1,
     "solution": false
    }
   },
   "outputs": [],
   "source": [
    "# repeat the previous test after \"solving\" one of the letters\n",
    "assert count_unsolved('QaEaEa') == 2"
   ]
  },
  {
   "cell_type": "code",
   "execution_count": 34,
   "metadata": {
    "collapsed": true,
    "deletable": false,
    "editable": false,
    "nbgrader": {
     "checksum": "b6732eb21ffeb84cc7f72bb36a908490",
     "grade": true,
     "grade_id": "count_unsolved_test_4",
     "locked": true,
     "points": 1,
     "schema_version": 1,
     "solution": false
    }
   },
   "outputs": [],
   "source": [
    "# a word can be completely solved (no remaining ciphertext letters)\n",
    "assert count_unsolved('banana') == 0"
   ]
  },
  {
   "cell_type": "markdown",
   "metadata": {
    "deletable": true,
    "editable": true
   },
   "source": [
    "##### <span style=\"color:red\">Documentation</span>"
   ]
  },
  {
   "cell_type": "markdown",
   "metadata": {
    "deletable": false,
    "editable": true,
    "nbgrader": {
     "checksum": "e5851db7ebe38e0a39a9a123b126176d",
     "grade": true,
     "grade_id": "count_unsolved_doc",
     "locked": false,
     "points": 6,
     "schema_version": 1,
     "solution": true
    }
   },
   "source": [
    "For each character, the function ascertains whether the character is an uppercase letter. If it is an uppercase letter, it checks to see if the character is a letter that has occurred earlier in the word (these letters are stored in the string unique). If it is uppercase and it is not in unique, count goes up by one and the letter is added to unique. \n",
    "\n",
    "After going through all the characters, the function returns the number of letters that remain unsolved."
   ]
  },
  {
   "cell_type": "markdown",
   "metadata": {
    "deletable": true,
    "editable": true
   },
   "source": [
    "###  <span style=\"color:teal\">Project 3: &nbsp; Fewest Unsolved Letters (15 points)</span>"
   ]
  },
  {
   "cell_type": "markdown",
   "metadata": {
    "deletable": true,
    "editable": true
   },
   "source": [
    "One strategy for choosing words to work on is to find the word that has the fewest letters remaining to be solved.  Fill in the body of the `fewest_unsolved` function so it iterates over a set of words and returns a tuple `(n,w)` where `w` is the word with the fewest remaining undecrypted letters and `n` is the number of undecrypted letters.\n",
    "\n",
    "For example, suppose the quote from earlier has been partially decrypted and the set of words is now\n",
    "```\n",
    "{'MOo', 'QHue', 'ReP', 'XiIV', 'oEe'}\n",
    "```\n",
    "Passing this set to `fewest_unsolved` should return `oEe` because it has one uppercase letter and the others all have two:\n",
    "```\n",
    "```\n",
    "\n",
    "**Note:** If there is a tie (more than one word has the same minimum number of undecrypted letters) just return one at random (_e.g._ the first one found)."
   ]
  },
  {
   "cell_type": "markdown",
   "metadata": {
    "deletable": true,
    "editable": true
   },
   "source": [
    "##### <span style=\"color:red\">Code</span>"
   ]
  },
  {
   "cell_type": "code",
   "execution_count": 9,
   "metadata": {
    "collapsed": false,
    "deletable": false,
    "editable": true,
    "nbgrader": {
     "checksum": "8f4a675e08b50052b704f12b1a95a31c",
     "grade": true,
     "grade_id": "fewest_unsolved",
     "locked": false,
     "points": 6,
     "schema_version": 1,
     "solution": true
    }
   },
   "outputs": [],
   "source": [
    "def fewest_unsolved(group):\n",
    "    '''\n",
    "    Takes a set of words and returns the word that has the fewest number unsolved. \n",
    "    \n",
    "    :param set group: A set of partially ciphered words\n",
    "    :return: The word that has the fewest number of words unsolved\n",
    "    :rtype: str\n",
    "    '''\n",
    "    fewest_str = 'QQQQQQQQQQQQQQQQQQQQQQQQQQQQQQQQQQQ'\n",
    "    fewest_no = 999999999999999\n",
    "    for item in group:\n",
    "        if count_unsolved(item) < fewest_no:\n",
    "            fewest_str = item\n",
    "            fewest_no = count_unsolved(item)\n",
    "\n",
    "    return fewest_str"
   ]
  },
  {
   "cell_type": "markdown",
   "metadata": {
    "deletable": true,
    "editable": true
   },
   "source": [
    "##### <span style=\"color:red\">Autograder Tests</span>"
   ]
  },
  {
   "cell_type": "code",
   "execution_count": 10,
   "metadata": {
    "collapsed": false,
    "deletable": false,
    "editable": false,
    "nbgrader": {
     "checksum": "a198cbb46a3b1877c3129a6e58ed4f23",
     "grade": true,
     "grade_id": "fewest_unsolved_test1",
     "locked": true,
     "points": 2,
     "schema_version": 1,
     "solution": false
    }
   },
   "outputs": [],
   "source": [
    "# this set has a word with one ciphertext letter and three others with two ciphertext letters\n",
    "test_set = {'oEe', 'XiIV', 'MOo', 'QHue', 'ReP'}\n",
    "\n",
    "# the first call should find the word with one ciphertext letter\n",
    "w = fewest_unsolved(test_set)\n",
    "assert w == 'oEe'"
   ]
  },
  {
   "cell_type": "code",
   "execution_count": 11,
   "metadata": {
    "collapsed": false,
    "deletable": false,
    "editable": false,
    "nbgrader": {
     "checksum": "8ad938c3f356ab07b7949142dcf582a7",
     "grade": true,
     "grade_id": "fewest_unsolved_test_2",
     "locked": true,
     "points": 2,
     "schema_version": 1,
     "solution": false
    }
   },
   "outputs": [],
   "source": [
    "# remove that word from the set, the next call should find a word with two ciphertext letters\n",
    "test_set.remove(w)\n",
    "w = fewest_unsolved(test_set)\n",
    "assert count_unsolved(w) == 2"
   ]
  },
  {
   "cell_type": "markdown",
   "metadata": {
    "deletable": true,
    "editable": true
   },
   "source": [
    "##### <span style=\"color:red\">Documentation</span>"
   ]
  },
  {
   "cell_type": "markdown",
   "metadata": {
    "deletable": false,
    "editable": true,
    "nbgrader": {
     "checksum": "3235477df1c67e673aa9b7907b9b31da",
     "grade": true,
     "grade_id": "fewest_unsolved_doc",
     "locked": false,
     "points": 5,
     "schema_version": 1,
     "solution": true
    }
   },
   "source": [
    "Takes a set of partially ciphered words and returns the word with the fewest unsolved letters. The values of fewest_str and fewest_no are set intentionally high so that the first word in the set will always replace these values. For each word in the set, the function calls count_unsolved. If the value of count_unsolved is strictly less than the current lowest number unsolved (fewest_no), then fewest_str is replaced by the word in question, and fewest_no is replaced with the value of count_unsolved. \n",
    "\n",
    "Returns the word with the fewest unsolved letters. "
   ]
  },
  {
   "cell_type": "markdown",
   "metadata": {
    "deletable": true,
    "editable": true
   },
   "source": [
    "###  <span style=\"color:teal\">Project 4: &nbsp; Letter Pairs (30 points)</span>"
   ]
  },
  {
   "cell_type": "markdown",
   "metadata": {
    "deletable": true,
    "editable": true
   },
   "source": [
    "An effective strategy for decrypting English text is to consider letters two at a time (see Section 8.4.3 of the textbook for an explanation of why this approach is helpful).\n",
    "\n",
    "For this part of the project, fill in the definition of the function named `make_letter_pairs`.  It will be passed a string, and it should return a matrix $m$, such that $m_{i,j}$ is the frequency with which letters $i$ and $j$ were next to each other in the string.\n",
    "\n",
    "One way to create a matrix in Python is to use a list of lists, but for this project we'll make a dictionary of dictionaries.  If we save the result of the function call in a variable named `m`, we can look up a frequency using indexing.  For example, we can look up the frequency of `'i'` followed by `'e'` by evaluating\n",
    "```\n",
    ">>> m['i']['e']\n",
    "```\n",
    "\n",
    "Here is an example:\n",
    "```\n",
    ">>> m = make_letter_pairs('how now, brown cow?')\n",
    ">>> m\n",
    "{'b': {'r': 0.1},\n",
    " 'c': {'o': 0.1},\n",
    " 'h': {'o': 0.1},\n",
    " 'n': {'o': 0.1},\n",
    " 'o': {'w': 0.4},\n",
    " 'r': {'o': 0.1},\n",
    " 'w': {'n': 0.1}}\n",
    "```\n",
    "\n",
    "The 10 places in this text where there are two letters next to each other are `ho`, `ow`, `no`, `ow`, `br`, `ro`, `ow`, `wn`, `co`, and `ow`.  The combination of `b` followed by `r` occurs only once, so its frequency is 1 / 10 = 0.1:\n",
    "```\n",
    ">>> m['b']['r']\n",
    "0.1\n",
    "```\n",
    "\n",
    "The pair `ow` occurs four times, so its frequency is 4 / 10 = 0.4:\n",
    "```\n",
    ">>> m['o']['w']\n",
    "0.4\n",
    "```\n",
    "\n",
    "**Note**  There is a similar function, named `neighborCount`, defined in the book. You can use this function to get some ideas for how to write your code, but there are some important differences you should be aware of:\n",
    "* the function in the book creates counts, but our function creates frequencies\n",
    "* the function in the book counts in both directions, _e.g._ when it sees the pair `ow` it adds 1 to the count of `ow` and one to the count for `wo`; we count one direction only"
   ]
  },
  {
   "cell_type": "markdown",
   "metadata": {
    "deletable": true,
    "editable": true
   },
   "source": [
    "##### <span style=\"color:red\">Code</span>"
   ]
  },
  {
   "cell_type": "code",
   "execution_count": 40,
   "metadata": {
    "collapsed": false,
    "deletable": false,
    "editable": true,
    "nbgrader": {
     "checksum": "61f40717f5e9c4954241e1f8a88f0183",
     "grade": true,
     "grade_id": "letter_pairs",
     "locked": false,
     "points": 15,
     "schema_version": 1,
     "solution": true
    }
   },
   "outputs": [],
   "source": [
    "def make_letter_pairs(text):\n",
    "    '''\n",
    "    Returns a dictionary with the frequency of letter pairs in a given text.\n",
    "    \n",
    "    :param str text: Text that is being investigated for the letter pairs.\n",
    "    :return: A dictionary with letter pairs and their frequency in the given text.\n",
    "    :rtype: dict\n",
    "    '''\n",
    "    \n",
    "    pair_dict = {}\n",
    "    text = text.lower()\n",
    "    letters = 0\n",
    "    # Finding the number of pairs of letters in the text\n",
    "    for j in range(len(text)):\n",
    "        if text[j] in ascii_lowercase:\n",
    "            if text[j+1] in ascii_lowercase:\n",
    "                letters += 1\n",
    "    \n",
    "    # Placing the letter pairs into the dictionary\n",
    "    for i in range(len(text) - 1):\n",
    "        if text[i] in ascii_lowercase:\n",
    "            if text[i] in pair_dict:\n",
    "                if text[i+1] in pair_dict[text[i]] and text[i+1] in ascii_lowercase:\n",
    "                    pair_dict[text[i]][text[i+1]] += 1 / letters\n",
    "                elif text[i+1] not in pair_dict[text[i]] and text[i+1] in ascii_lowercase:\n",
    "                    pair_dict[text[i]][text[i+1]] = 1 / letters\n",
    "            elif text[i] not in pair_dict and text[i+1] in ascii_lowercase:\n",
    "                pair_dict[text[i]] = {text[i+1]: 1 / letters}\n",
    "\n",
    "    return pair_dict"
   ]
  },
  {
   "cell_type": "markdown",
   "metadata": {
    "deletable": true,
    "editable": true
   },
   "source": [
    "##### <span style=\"color:red\">Autograder Tests</span>"
   ]
  },
  {
   "cell_type": "code",
   "execution_count": 41,
   "metadata": {
    "collapsed": false,
    "deletable": false,
    "editable": false,
    "nbgrader": {
     "checksum": "4196200898ea4db87d559c3d944d8df8",
     "grade": true,
     "grade_id": "letter_pairs_test_1",
     "locked": true,
     "points": 4,
     "schema_version": 1,
     "solution": false
    }
   },
   "outputs": [],
   "source": [
    "# the first test uses the 'brown cow' example\n",
    "m = make_letter_pairs('how now, brown cow?')\n",
    "\n",
    "# there are 7 different letters in the string\n",
    "assert len(m) == 7\n",
    "\n",
    "# check two of the frequencies\n",
    "assert round(m['o']['w'],1) == 0.4\n",
    "assert round(m['r']['o'],1) == 0.1"
   ]
  },
  {
   "cell_type": "code",
   "execution_count": 42,
   "metadata": {
    "collapsed": false,
    "deletable": false,
    "editable": false,
    "nbgrader": {
     "checksum": "d957c0a860adb6771117f55ac0cd211e",
     "grade": true,
     "grade_id": "letter_pairs_test_2",
     "locked": true,
     "points": 2,
     "schema_version": 1,
     "solution": false
    }
   },
   "outputs": [],
   "source": [
    "# the remaining tests are based on frequencies using a large body of text (War of the Worlds, by H. G. Wells)\n",
    "with open('wells.txt') as f:\n",
    "    pp = make_letter_pairs(f.read())\n",
    "\n",
    "# look up some common letter combinations (\"pp\" stands for \"pair probability\")\n",
    "assert round(pp['e']['e'], 3) == 0.006\n",
    "assert round(pp['s']['s'], 3) == 0.004"
   ]
  },
  {
   "cell_type": "code",
   "execution_count": 43,
   "metadata": {
    "collapsed": false,
    "deletable": false,
    "editable": false,
    "nbgrader": {
     "checksum": "b2f992746011e4fe5f49893b5f6837ca",
     "grade": true,
     "grade_id": "letter_pairs_test_3",
     "locked": true,
     "points": 2,
     "schema_version": 1,
     "solution": false
    }
   },
   "outputs": [],
   "source": [
    "# look up some rare combinations (in this book, at least)\n",
    "assert round(pp['r']['z']) < 0.000001\n",
    "assert round(pp['y']['n']) < 0.000001"
   ]
  },
  {
   "cell_type": "code",
   "execution_count": 44,
   "metadata": {
    "collapsed": false,
    "deletable": false,
    "editable": false,
    "nbgrader": {
     "checksum": "cda151fe4056f01fa446c95cdfb4a19a",
     "grade": true,
     "grade_id": "letter_pairs_test_4",
     "locked": true,
     "points": 2,
     "schema_version": 1,
     "solution": false
    }
   },
   "outputs": [],
   "source": [
    "# letter combinations 'jx' and 'kk' never occur in this book\n",
    "assert 'x' not in pp['j']\n",
    "assert 'k' not in pp['k']"
   ]
  },
  {
   "cell_type": "markdown",
   "metadata": {
    "deletable": true,
    "editable": true
   },
   "source": [
    "##### <span style=\"color:red\">Documentation</span>"
   ]
  },
  {
   "cell_type": "code",
   "execution_count": null,
   "metadata": {
    "collapsed": true,
    "deletable": false,
    "editable": true,
    "nbgrader": {
     "checksum": "1166b51e3e5c6e94483e98ff50b57ede",
     "grade": true,
     "grade_id": "letter_pairs_doc",
     "locked": false,
     "points": 5,
     "schema_version": 1,
     "solution": true
    }
   },
   "outputs": [],
   "source": [
    "'''\n",
    "The function initially determines how many letter pairs there are in the text by determining if the ith and i + 1th character of the text are both lowercase letters (The entirety of the text has been lowered via text.lower()). Then for each character, it determines whether (1) if the current character is a lowercase letter, (2) if the current character is in the pair dictionary, (3) if the subsequent character is a lowercase letter, (4) if the subsequent character in the dictionary for the current character that is nested in the pair dictionary. \n",
    "\n",
    "If (1) is True, the function moves on to step 2.\n",
    "If (1) is False, the function moves on to the next character.\n",
    "\n",
    "If (2) is True, then the function moves on to step 3.\n",
    "If (2) is False, then the function moves on to step 3.\n",
    "\n",
    "If (3) is True, then the function moves on to step 4.\n",
    "If (3) is False, then the function moves on to the next character.\n",
    "\n",
    "If (4) is True, then the function adds (1 / (total number of letter pairs)) to the value of the dictionary key that corresponds to the letter pair.\n",
    "If (4) is False, the dictionary for the current letter is updated to add a key of the subsequent letter with a value of (1 / total number of letter pairs). \n",
    "\n",
    "The function returns the pair dictionary. \n",
    "'''"
   ]
  },
  {
   "cell_type": "markdown",
   "metadata": {
    "deletable": true,
    "editable": true
   },
   "source": [
    "###  <span style=\"color:teal\">Project 5: `apply` (15 points)</span>"
   ]
  },
  {
   "cell_type": "markdown",
   "metadata": {
    "deletable": true,
    "editable": true
   },
   "source": [
    "The final part of the project is to write a function named `apply` that will use a decryption key (a dictionary mapping ciphertext letters to plaintext) to update a partially decrypted string.\n",
    "\n",
    "For example, this key replaces X with `'f'`, Z with `'i'`, I with `'s'`, and V with `'h'`:\n",
    "```\n",
    ">>> k = {'X':'f', 'Z':'i', 'I':'s', 'V':'h'}\n",
    "```\n",
    "\n",
    "If we apply the key to the example ciphertext this is the result:\n",
    "```\n",
    ">>> apply(k, 'UEK XZIV, MOU XZIV, RKP XZIV, QHGK XZIV.')\n",
    "'UEK fish, MOU fish, RKP fish, QHGK fish.'\n",
    "```"
   ]
  },
  {
   "cell_type": "markdown",
   "metadata": {
    "deletable": true,
    "editable": true
   },
   "source": [
    "##### <span style=\"color:red\">Code</span>"
   ]
  },
  {
   "cell_type": "code",
   "execution_count": 25,
   "metadata": {
    "collapsed": false,
    "deletable": false,
    "editable": true,
    "nbgrader": {
     "checksum": "278ace3e6414081526b39ff7c000ff20",
     "grade": true,
     "grade_id": "apply",
     "locked": false,
     "points": 6,
     "schema_version": 1,
     "solution": true
    }
   },
   "outputs": [],
   "source": [
    "def apply(key, quote):\n",
    "    '''\n",
    "    Replaces decrypted letters in a ciphertext with their known values.\n",
    "    \n",
    "    :param set key: The key to the ciphertext.\n",
    "    :param str quote: The quote that is being attempted to be deciphered.\n",
    "    :return: A string with the known letters replaced within the string.\n",
    "    :rtype: str\n",
    "    '''\n",
    "    \n",
    "    final_string = ''\n",
    "    i = 0\n",
    "    for char in list(quote):\n",
    "        i += 1\n",
    "        for thing in key:\n",
    "            if char == thing:\n",
    "                final_string += key[thing]\n",
    "        if len(final_string) != i:\n",
    "            final_string += char\n",
    "    return final_string"
   ]
  },
  {
   "cell_type": "markdown",
   "metadata": {
    "deletable": true,
    "editable": true
   },
   "source": [
    "##### <span style=\"color:red\">Autograder Tests</span>"
   ]
  },
  {
   "cell_type": "code",
   "execution_count": 26,
   "metadata": {
    "collapsed": false,
    "deletable": false,
    "editable": false,
    "nbgrader": {
     "checksum": "24a384518c442136d47ea40f890da83a",
     "grade": true,
     "grade_id": "apply_test",
     "locked": true,
     "points": 4,
     "schema_version": 1,
     "solution": false
    }
   },
   "outputs": [],
   "source": [
    "# make a decryption key to use in the tests\n",
    "k = {'X':'f', 'Z':'i', 'I':'s', 'V':'h'}\n",
    "\n",
    "# apply the key \n",
    "assert apply(k,'XZIV') == 'fish'\n",
    "assert apply(k,'UDKLCXZIV') == 'UDKLCfish'\n",
    "assert apply(k,'XMIVZQP') == 'fMshiQP'\n",
    "assert apply(k,'JSBWC') == 'JSBWC'"
   ]
  },
  {
   "cell_type": "markdown",
   "metadata": {
    "deletable": true,
    "editable": true
   },
   "source": [
    "##### <span style=\"color:red\">Documentation</span>"
   ]
  },
  {
   "cell_type": "markdown",
   "metadata": {
    "collapsed": true,
    "deletable": false,
    "editable": true,
    "nbgrader": {
     "checksum": "31601803eb151bfefd4435a547f7161b",
     "grade": true,
     "grade_id": "apply_doc",
     "locked": false,
     "points": 5,
     "schema_version": 1,
     "solution": true
    }
   },
   "source": [
    "For each character in quote, the function checks each key in the key dictionary. If they match, then the value of the specific key is placed into the string final_string. If after going through all of the keys there is no match, the original letter is placed into final_string. \n",
    "\n",
    "After going through all of the letters in quote, the function returns the final string."
   ]
  }
 ],
 "metadata": {
  "anaconda-cloud": {},
  "kernelspec": {
   "display_name": "Python 3",
   "language": "python",
   "name": "python3"
  },
  "language_info": {
   "codemirror_mode": {
    "name": "ipython",
    "version": 3
   },
   "file_extension": ".py",
   "mimetype": "text/x-python",
   "name": "python",
   "nbconvert_exporter": "python",
   "pygments_lexer": "ipython3",
   "version": "3.6.0"
  },
  "toc": {
   "colors": {
    "hover_highlight": "#DAA520",
    "running_highlight": "#FF0000",
    "selected_highlight": "#FFD700"
   },
   "moveMenuLeft": true,
   "nav_menu": {
    "height": "121px",
    "width": "252px"
   },
   "navigate_menu": true,
   "number_sections": true,
   "sideBar": true,
   "threshold": "3",
   "toc_cell": false,
   "toc_section_display": "block",
   "toc_window_display": false,
   "widenNotebook": false
  }
 },
 "nbformat": 4,
 "nbformat_minor": 0
}
