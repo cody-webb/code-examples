{
 "cells": [
  {
   "cell_type": "markdown",
   "metadata": {
    "deletable": true,
    "editable": true,
    "outputExpanded": false
   },
   "source": [
    "# <span style=\"color:teal;\">CIS 211 Project 6:  N-Body GUI</span>"
   ]
  },
  {
   "cell_type": "markdown",
   "metadata": {
    "deletable": true,
    "editable": true,
    "outputExpanded": false
   },
   "source": [
    "##### Due 11:00 P.M.  May 21, 2017"
   ]
  },
  {
   "cell_type": "markdown",
   "metadata": {
    "deletable": true,
    "editable": true,
    "outputExpanded": false
   },
   "source": [
    "##### Reading:  Online Tutorials"
   ]
  },
  {
   "cell_type": "markdown",
   "metadata": {
    "deletable": true,
    "editable": true,
    "outputExpanded": false
   },
   "source": [
    "For this week's project you will create the elements used in a GUI for visualizing the solar system simulation: \n",
    "* a subclass of Body that adds attributes used to display a planet \n",
    "* a new type of Canvas with methods for drawing and moving planets\n",
    "* a subclass of Tk's spinbox used to control the number of planets to display\n",
    "* a frame that has a run button and a place to enter the simulation parameters"
   ]
  },
  {
   "cell_type": "markdown",
   "metadata": {
    "deletable": true,
    "editable": true,
    "outputExpanded": false
   },
   "source": [
    "###  <span style=\"color:teal\">N-Body Simulation Code</span>"
   ]
  },
  {
   "cell_type": "markdown",
   "metadata": {
    "deletable": true,
    "editable": true,
    "outputExpanded": false
   },
   "source": [
    "This week's project will use the Vector and Body classes from Project 4 and the Planet class and `step_system` function from Project 5.  There are two ways to use that code in this project:  (1) copy your definitions from the previous projects, or (2) download the instructor's solution from Canvas.\n",
    "\n",
    "Instructions for both methods are in the next two sections.  **Use either of these methods, but not both.**  \n",
    "\n",
    "Note: you will earn **extra credit points** if you use your own code."
   ]
  },
  {
   "cell_type": "markdown",
   "metadata": {
    "deletable": true,
    "editable": true,
    "outputExpanded": false
   },
   "source": [
    "####  <span style=\"color:teal\">Option 1: &nbsp; Use Your Own Code</span>"
   ]
  },
  {
   "cell_type": "markdown",
   "metadata": {
    "deletable": true,
    "editable": true,
    "outputExpanded": false
   },
   "source": [
    "Choose this method only if your class definitions and `step_system` functions from the Planets and Orbits projects passed all their unit tests. Copy the complete definitions from your other notebooks and paste them into the code cells below.  "
   ]
  },
  {
   "cell_type": "code",
   "execution_count": 1,
   "metadata": {
    "collapsed": true,
    "deletable": true,
    "editable": true,
    "outputExpanded": false
   },
   "outputs": [],
   "source": [
    "from math import sqrt\n",
    "\n",
    "class Vector:\n",
    "    \"\"\"\n",
    "    A Vector is a 3-tuple of (x,y,z) coordinates.\n",
    "    \"\"\"\n",
    "    def __init__(self, x = 0, y = 0, z = 0):\n",
    "        '''\n",
    "        Creates the values for x, y, and z of our vector. Default values of 0.\n",
    "        :param x float: x-value of the Vector.\n",
    "        :param y float: y-value of the Vector.\n",
    "        :param z float: z-value of the Vector.\n",
    "        :rtype: None\n",
    "        '''\n",
    "        self._x = x\n",
    "        self._y = y\n",
    "        self._z = z\n",
    "        \n",
    "    def x(self):\n",
    "        '''\n",
    "        Returns the x-value.\n",
    "        :param self float: x-value of Vector.\n",
    "        :return: x-value of Vector.\n",
    "        :rtype: float\n",
    "        '''\n",
    "        return self._x\n",
    "    \n",
    "    def y(self):\n",
    "        '''\n",
    "        Returns the y-value.\n",
    "        :return: y-value of Vector.\n",
    "        :rtype: float\n",
    "        '''\n",
    "        return self._y\n",
    "    \n",
    "    def z(self):\n",
    "        '''\n",
    "        Returns the z-value.\n",
    "        :return: z-value of Vector.\n",
    "        :rtype: float\n",
    "        '''\n",
    "        return self._z\n",
    "    \n",
    "    def __repr__(self):\n",
    "        ''' \n",
    "        Returns the vector in string form formatted to three decimal places.\n",
    "        :param self Vector: The vector being evaluated.\n",
    "        :return: String with the vector formatted to three decimal places.\n",
    "        :rtype: str\n",
    "        '''\n",
    "        return '({:.3g},{:.3g},{:.3g})'.format(self._x, self._y, self._z)\n",
    "    \n",
    "    def __eq__(self, other):\n",
    "        ''' \n",
    "        Determines if two Vector objects are equal.\n",
    "        \n",
    "        :param self Vector: A Vector.\n",
    "        :param other Vector: A Vector.\n",
    "        :return: True if the vectors are equal, False if not.\n",
    "        :rtype: Boolean\n",
    "        '''\n",
    "        return self._x == other._x and self._y == other._y and self._z == other._z\n",
    "    \n",
    "    def __add__(self, other):\n",
    "        '''\n",
    "        Defines addition between vectors.\n",
    "        \n",
    "        :param self Vector: A Vector.\n",
    "        :param other Vector: A Vector\n",
    "        :return: The sum of the two vectors.\n",
    "        :rtype: Vector.\n",
    "        '''\n",
    "        return Vector(self._x + other._x, self._y + other._y, self._z + other._z)\n",
    "    \n",
    "    def __sub__(self, other):\n",
    "        '''\n",
    "        Defines subtraction between vectors.\n",
    "        \n",
    "        :param self Vector: A Vector.\n",
    "        :param other Vector: A Vector\n",
    "        :return: The first Vector minus the second Vector.\n",
    "        :rtype: Vector.\n",
    "        '''\n",
    "        return Vector(self._x - other._x, self._y - other._y, self._z - other._z)\n",
    "    \n",
    "    def __mul__(self, const):\n",
    "        '''\n",
    "        Defines multiplying a vector by a constant.\n",
    "        \n",
    "        :param self Vector: A Vector.\n",
    "        :return: A vector times a constant.\n",
    "        :rtype: Vector.\n",
    "        '''\n",
    "        return Vector(self._x * const, self._y * const, self._z * const)\n",
    "    \n",
    "    def norm(self):\n",
    "        '''\n",
    "        Defines the norm of a vector.\n",
    "        \n",
    "        :param self Vector: A Vector.\n",
    "        :return: The Euclidean length of the Vector.\n",
    "        :rtype: float.\n",
    "        '''\n",
    "        return sqrt(self._x ** 2 + self._y ** 2 + self._z ** 2)\n",
    "        \n",
    "    def clear(self):\n",
    "        '''\n",
    "        Turns a vector into a zero vector.\n",
    "        \n",
    "        :param self Vector: A Vector.\n",
    "        :return: None\n",
    "        :rtype: None\n",
    "        '''\n",
    "        self._x = 0\n",
    "        self._y = 0\n",
    "        self._z = 0"
   ]
  },
  {
   "cell_type": "code",
   "execution_count": 2,
   "metadata": {
    "collapsed": true,
    "deletable": true,
    "editable": true,
    "outputExpanded": false
   },
   "outputs": [],
   "source": [
    "G = 6.67E-11\n",
    "\n",
    "class Body:\n",
    "    \"\"\"\n",
    "    A Body object represents the state of a celestial body.  A body has mass \n",
    "    (a scalar), position (a vector), and velocity (a vector).  A third vector, \n",
    "    named force, is used when calculating forces acting on a body.\n",
    "    \"\"\"\n",
    "    def __init__(self, mass = 0, position = Vector(0,0,0), velocity = Vector(0,0,0)):\n",
    "        '''\n",
    "        Defines internal values for mass, position, velocity, and force.\n",
    "        \n",
    "        :param mass float: The mass of the object. Defaults to 0.\n",
    "        :param position Vector: The position of the object in three-dimensional space. Defaults to Vector(0,0,0).\n",
    "        :param velocity Vector: The velocity of the object in three-dimensional space. Defaults to Vector(0,0,0).\n",
    "        :param force Vector: The force exerted on the object in three-dimensional space. Initialized to Vector(0,0,0).\n",
    "        :return: None\n",
    "        :rtype: None\n",
    "        '''\n",
    "        self._mass = mass\n",
    "        self._position = position\n",
    "        self._velocity = velocity\n",
    "        self._force = Vector(0,0,0)\n",
    "        \n",
    "    def __repr__(self):\n",
    "        '''\n",
    "        Returns the mass with up to three decimal places, the position Vector, and the velocity Vector.\n",
    "        \n",
    "        :param self Body: A Body.\n",
    "        :return: A string with mass, position Vector, and a velocity Vector.\n",
    "        :rtype: str.\n",
    "        '''\n",
    "        return '{:.3g}kg {} {}'.format(self._mass, self._position, self._velocity)\n",
    "        \n",
    "    def mass(self):\n",
    "        '''\n",
    "        Returns the value of mass.\n",
    "        \n",
    "        :param self Body: A Body.\n",
    "        :return: The value of mass.\n",
    "        :rtype: float.\n",
    "        '''\n",
    "        return self._mass\n",
    "        \n",
    "    def position(self):\n",
    "        '''\n",
    "        Returns the value of position.\n",
    "        \n",
    "        :param self Body: A Body.\n",
    "        :return: The value of position.\n",
    "        :rtype: Vector.\n",
    "        '''\n",
    "        return self._position\n",
    "        \n",
    "    def velocity(self):\n",
    "        '''\n",
    "        Returns the value of velocity.\n",
    "        \n",
    "        :param self Body: A Body.\n",
    "        :return: The value of velocity.\n",
    "        :rtype: Vector.\n",
    "        '''\n",
    "        return self._velocity\n",
    "    \n",
    "    def force(self):\n",
    "        '''\n",
    "        Returns the value of force.\n",
    "        \n",
    "        :param self Body: A Body.\n",
    "        :return: The value of force.\n",
    "        :rtype: Vector.\n",
    "        '''\n",
    "        return self._force\n",
    "    \n",
    "    def direction(self, other):\n",
    "        '''\n",
    "        Returns a vector pointing from the first vector to the second vector by using their \n",
    "        respective position Vectors.\n",
    "        \n",
    "        :param self Body: A Body.\n",
    "        :param other Body: A Body.\n",
    "        :return: Vector pointing from self to other.\n",
    "        :rtype: Vector\n",
    "        '''\n",
    "        return other.position() - self.position()\n",
    "    \n",
    "    def clear_force(self):\n",
    "        '''\n",
    "        Causes force to become a zero vector.\n",
    "        \n",
    "        :param self Body: A Body.\n",
    "        :return: None\n",
    "        :rtype: None\n",
    "        '''\n",
    "        self._force.clear()\n",
    "    \n",
    "    def add_force(self, other):\n",
    "        '''\n",
    "        Adds the gravitational force that self is experiencing from other and adds it to the internal force vector\n",
    "        of self.\n",
    "        \n",
    "        :param self Body: A Body that we are calculating force for.\n",
    "        :param other Body: A Body that is interacting with self.\n",
    "        :return: The force being exerted on self.\n",
    "        :rtype: Vector.\n",
    "        :\n",
    "        \n",
    "        :\n",
    "        '''\n",
    "        self._force += self.direction(other) * (other._mass / ((self.direction(other).norm()) ** 3))\n",
    "        return self.force()\n",
    "        \n",
    "    def move(self, dt):\n",
    "        '''\n",
    "        Changes an object's internal position and velocity Vectors based on the force being exerted on it.\n",
    "        \n",
    "        :param self Body: A Body on which a force is being exerted.\n",
    "        :param dt float: A time interval\n",
    "        :return: None\n",
    "        :rtype: None\n",
    "        '''\n",
    "        acceleration =  self._force * G\n",
    "        self._velocity = self._velocity + (acceleration * dt)\n",
    "        self._position = self._position + (self._velocity * dt)"
   ]
  },
  {
   "cell_type": "code",
   "execution_count": 3,
   "metadata": {
    "collapsed": true,
    "deletable": true,
    "editable": true,
    "outputExpanded": false
   },
   "outputs": [],
   "source": [
    "class Planet(Body):\n",
    "    \"Defines a planet in our solar system simulation. The same as a Body class, but with the addition of color and name.\"\n",
    "    def __init__(self, mass = 0, position = Vector(0,0,0), velocity = Vector(0,0,0), name = '', color = ''):\n",
    "        '''\n",
    "        mass, position, velocity, and force are the same as in a Body class. Additionally defines color and name.\n",
    "        \n",
    "        :param name str: Name of the planet.\n",
    "        :param color str: Color of the planet.\n",
    "        :rtype: None\n",
    "        '''\n",
    "        Body.__init__(self, mass, position, velocity)\n",
    "        self._color = color\n",
    "        self._name = name\n",
    "    \n",
    "    def name(self):\n",
    "        '''\n",
    "        Returns the name of the planet.\n",
    "        \n",
    "        :return: Name of planet.\n",
    "        :rtype: str\n",
    "        '''\n",
    "        return self._name\n",
    "    \n",
    "    def color(self):\n",
    "        '''\n",
    "        Returns the color of the planet.\n",
    "        \n",
    "        :return: Color of planet.\n",
    "        :rtype: str\n",
    "        '''\n",
    "        return self._color"
   ]
  },
  {
   "cell_type": "code",
   "execution_count": 4,
   "metadata": {
    "collapsed": true,
    "deletable": true,
    "editable": true,
    "outputExpanded": false
   },
   "outputs": [],
   "source": [
    "def step_system(bodies, dt=86459, nsteps=1):\n",
    "    '''\n",
    "    Takes a list of bodies and returns how far they move after nsteps number of time steps.\n",
    "    \n",
    "    :param bodies list: List of bodies with positions, masses, and vectors.\n",
    "    :param dt float: The time step. Defaults to 86459.\n",
    "    :param nsteps int: The number of time steps we are taking. Defaults to 1. \n",
    "    :return: List of lists of positions at each step of the simulation.\n",
    "    :rtype: list of lists.\n",
    "    '''\n",
    "    n = len(bodies)\n",
    "    # Creates n many empty lists inside a list that we can put our information into. \n",
    "    orbit = [[] for k in range(n)]\n",
    "    for l in range(nsteps):\n",
    "        for i in range(n):\n",
    "            for j in range(n):\n",
    "                if i != j:\n",
    "                    bodies[i].add_force(bodies[j])\n",
    "            bodies[i].move(dt)\n",
    "            bodies[i].clear_force()\n",
    "            orbit[i].append(bodies[i].position())\n",
    "    return orbit"
   ]
  },
  {
   "cell_type": "markdown",
   "metadata": {
    "deletable": true,
    "editable": true,
    "outputExpanded": false
   },
   "source": [
    "####  <span style=\"color:teal\">Option 2: &nbsp; Download `Orbits.pyc` from Canvas </span>"
   ]
  },
  {
   "cell_type": "markdown",
   "metadata": {
    "deletable": true,
    "editable": true,
    "outputExpanded": false
   },
   "source": [
    "Download one of the `Orbits.cpython-3x.pyc` files, rename it `Orbits.pyc`, and move it to the same folder as this notebook.  Then uncomment and execute the `import` command in the code cell below.\n",
    "\n",
    "**Make sure you get the right file for your version of Python.**"
   ]
  },
  {
   "cell_type": "code",
   "execution_count": null,
   "metadata": {
    "collapsed": true,
    "deletable": true,
    "editable": true,
    "outputExpanded": false
   },
   "outputs": [],
   "source": [
    "# from Orbits import *"
   ]
  },
  {
   "cell_type": "markdown",
   "metadata": {
    "deletable": true,
    "editable": true,
    "outputExpanded": false
   },
   "source": [
    "###  <span style=\"color:teal\">Libraries and Constants</span>"
   ]
  },
  {
   "cell_type": "markdown",
   "metadata": {
    "deletable": true,
    "editable": true,
    "outputExpanded": false
   },
   "source": [
    "Execute these code cells each time you open the notebook.  The cell that defines two global constants will allow us to run autograder tests when the notebook is loaded into Jupyter but not when the program is run from the command line."
   ]
  },
  {
   "cell_type": "code",
   "execution_count": 5,
   "metadata": {
    "collapsed": true,
    "deletable": true,
    "editable": true,
    "outputExpanded": false
   },
   "outputs": [],
   "source": [
    "IPython = (__doc__ is not None) and ('IPython' in __doc__)\n",
    "Main    = __name__ == '__main__'"
   ]
  },
  {
   "cell_type": "code",
   "execution_count": 6,
   "metadata": {
    "collapsed": true,
    "deletable": true,
    "editable": true,
    "outputExpanded": false
   },
   "outputs": [],
   "source": [
    "if IPython:\n",
    "    %gui tk"
   ]
  },
  {
   "cell_type": "code",
   "execution_count": 7,
   "metadata": {
    "collapsed": true,
    "deletable": true,
    "editable": true,
    "outputExpanded": false
   },
   "outputs": [],
   "source": [
    "import tkinter as tk\n",
    "import tkinter.ttk as ttk\n",
    "from tkinter import filedialog\n",
    "from time import sleep"
   ]
  },
  {
   "cell_type": "markdown",
   "metadata": {
    "deletable": true,
    "editable": true,
    "outputExpanded": false
   },
   "source": [
    "###  <span style=\"color:teal\">Helper Function</span>"
   ]
  },
  {
   "cell_type": "markdown",
   "metadata": {
    "deletable": true,
    "editable": true,
    "outputExpanded": false
   },
   "source": [
    "To help test and debug your code execute this code cell to define a function named `read_bodies`.\n",
    "\n",
    "The first argument passed to the function should be the name of the file containing planet descriptions.  Download `solarsystem.txt` from Canvas and save it in the same directory as this notebook.\n",
    "\n",
    "The second argument is the type of Body object you want to make.  If you call\n",
    "```\n",
    ">>> read_bodies('solarsystem.txt', Body)\n",
    "```\n",
    "you will get back a list of Body objects (you should to this to make sure you can read the data file).  \n",
    "\n",
    "Part 1 of this week's project is to defined a new class named TkPlanet that is derived from the Planet class. If you call\n",
    "```\n",
    ">>> read_bodies('solarsystem.txt', TkPlanet)\n",
    "```\n",
    "you will get a list of TkPlanet objects that include the attributes needed to draw the planets on a canvas."
   ]
  },
  {
   "cell_type": "code",
   "execution_count": 8,
   "metadata": {
    "collapsed": true,
    "deletable": false,
    "editable": false,
    "nbgrader": {
     "checksum": "efb8cae6d3acdc3934d70c822ae92989",
     "grade": false,
     "grade_id": "read_bodies",
     "locked": true,
     "schema_version": 1,
     "solution": false
    },
    "outputExpanded": false
   },
   "outputs": [],
   "source": [
    "def read_bodies(filename, cls):\n",
    "    '''\n",
    "    Read descriptions of planets, return a list of body objects.  The first\n",
    "    argument is the name of a file with one planet description per line, the\n",
    "    second argument is the type of object to make for each planet.\n",
    "    '''\n",
    "    if not issubclass(cls, Body):\n",
    "        raise TypeError('cls must be Body or a subclass of Body')\n",
    "\n",
    "    bodies = [ ]\n",
    "\n",
    "    with open(filename) as bodyfile:\n",
    "        for line in bodyfile:\n",
    "            line = line.strip()\n",
    "            if len(line) == 0 or line[0] == '#':\n",
    "                continue\n",
    "            name, m, rx, ry, rz, vx, vy, vz, rad, color = line.split()\n",
    "            args = {\n",
    "                'mass' : float(m),\n",
    "                'position' : Vector(float(rx), float(ry), float(rz)),\n",
    "                'velocity' : Vector(float(vx), float(vy), float(vz)),\n",
    "            }\n",
    "            opts = {'name': name, 'color': color, 'size': int(rad)}\n",
    "            for x in opts:\n",
    "                if getattr(cls, x, None):\n",
    "                    args[x] = opts[x]\n",
    "            bodies.append(cls(**args))\n",
    "\n",
    "    return bodies\n"
   ]
  },
  {
   "cell_type": "markdown",
   "metadata": {
    "deletable": true,
    "editable": true,
    "outputExpanded": false
   },
   "source": [
    "###  <span style=\"color:teal\">Part 1: &nbsp; TkPlanet (20 points)</span>"
   ]
  },
  {
   "cell_type": "markdown",
   "metadata": {
    "deletable": true,
    "editable": true,
    "outputExpanded": false
   },
   "source": [
    "Fill in the definition of the TkPlanet class in the code cell below.  The constructor should accept the same arguments as the Planet class constructor plus one new attribute:\n",
    "* `size` is the radius, in pixels, of the circle to draw to represent the body\n",
    "\n",
    "Define a getter method named `size` that will return the value of size attribute.\n",
    "\n",
    "A second new attribute of a TkPlanet object will hold the ID of the circle created when the planet is drawn. Initialize this attribute to None when the planet is created, and define a \"setter\" named `set_graphic` and a \"getter\" named `graphic`.\n",
    "\n",
    "**Note:** If you need a reminder of the arguments passed to Body type `?Body` or `help(Body)` in a Jupyter code cell.\n"
   ]
  },
  {
   "cell_type": "markdown",
   "metadata": {
    "deletable": true,
    "editable": true,
    "outputExpanded": false
   },
   "source": [
    "##### <span style=\"color:red\">Code:</span>"
   ]
  },
  {
   "cell_type": "code",
   "execution_count": 9,
   "metadata": {
    "collapsed": false,
    "deletable": false,
    "editable": true,
    "nbgrader": {
     "checksum": "1acf217baf406b1238be179534a69b2f",
     "grade": true,
     "grade_id": "tkbody",
     "locked": false,
     "points": 10,
     "schema_version": 1,
     "solution": true
    },
    "outputExpanded": false
   },
   "outputs": [],
   "source": [
    "class TkPlanet(Planet):\n",
    "    '''\n",
    "    TkPlanet is a planet with extra attributes of size and graphic. Size will give the size of the Planet in pixels that\n",
    "    will show up on the Canvas. Graphic holds the ID of the circle when the planet is drawn. \n",
    "    '''\n",
    "    \n",
    "    def __init__(self, mass = 0, position = Vector(0,0,0), velocity = Vector(0,0,0), name = '', color = '', size = 0, graphic = None):\n",
    "        '''\n",
    "        Essentially creates a planet class with two extra parameters of size and graphic.\n",
    "        \n",
    "        :param mass float: The mass of the object. Defaults to 0.\n",
    "        :param position Vector: The position of the object in three-dimensional space. Defaults to Vector(0,0,0).\n",
    "        :param velocity Vector: The velocity of the object in three-dimensional space. Defaults to Vector(0,0,0).\n",
    "        :param force Vector: The force exerted on the object in three-dimensional space. Initialized to Vector(0,0,0).\n",
    "        :param size int: The size of the planet in pixels.\n",
    "        :param graphic int: The ID of the circle that is drawn. \n",
    "        :return: None\n",
    "        :rtype: None\n",
    "        '''\n",
    "        Planet.__init__(self, mass, position, velocity, name, color)\n",
    "        self._size = size\n",
    "        self._graphic = graphic\n",
    "    \n",
    "    def size(self):\n",
    "        '''\n",
    "        Returns the size of the TkPlanet in pixels.\n",
    "        \n",
    "        :return: The size of the planet in pixels.\n",
    "        :rtype: int.\n",
    "        '''\n",
    "        return self._size\n",
    "    \n",
    "    def graphic(self):\n",
    "        '''\n",
    "        Returns the graphic ID of the TkPlanet.\n",
    "        \n",
    "        :return: ID Number of the TkPlanet.\n",
    "        :rtype: int.\n",
    "        '''\n",
    "        return self._graphic\n",
    "    \n",
    "    def set_graphic(self, thing):\n",
    "        '''\n",
    "        Changes the value of self._graphic.\n",
    "        \n",
    "        :param thing int: The new value of self._graphic.\n",
    "        :return None:\n",
    "        :rtype: None\n",
    "        '''\n",
    "        self._graphic = thing \n"
   ]
  },
  {
   "cell_type": "markdown",
   "metadata": {
    "deletable": true,
    "editable": true,
    "outputExpanded": false
   },
   "source": [
    "##### <span style=\"color:red\">Tests:</span>"
   ]
  },
  {
   "cell_type": "markdown",
   "metadata": {
    "deletable": true,
    "editable": true,
    "outputExpanded": false
   },
   "source": [
    "Use the following code cell as a \"sandbox\" if you want to do your own tests of the TkBody class.  You can add additional cells here if you want."
   ]
  },
  {
   "cell_type": "code",
   "execution_count": null,
   "metadata": {
    "collapsed": false,
    "deletable": true,
    "editable": true,
    "outputExpanded": false
   },
   "outputs": [],
   "source": []
  },
  {
   "cell_type": "markdown",
   "metadata": {
    "deletable": true,
    "editable": true,
    "outputExpanded": false
   },
   "source": [
    "##### <span style=\"color:red\">Autograder Tests:</span>"
   ]
  },
  {
   "cell_type": "markdown",
   "metadata": {
    "deletable": true,
    "editable": true,
    "outputExpanded": false
   },
   "source": [
    "**Important:** &nbsp;  the code cells in this section will be used by `nbgrader` to run automated tests.  Do not move, delete or alter these cells in any way."
   ]
  },
  {
   "cell_type": "code",
   "execution_count": 10,
   "metadata": {
    "collapsed": false,
    "deletable": false,
    "editable": false,
    "nbgrader": {
     "checksum": "046100d120b1c8c5d49f3a4d91b5315d",
     "grade": true,
     "grade_id": "tkbody_test1",
     "locked": true,
     "points": 2,
     "schema_version": 1,
     "solution": false
    },
    "outputExpanded": false
   },
   "outputs": [],
   "source": [
    "if IPython:\n",
    "    b = TkPlanet(0, Vector(0,0,0), Vector(0,0,0), '', '', 0)\n",
    "\n",
    "    assert isinstance(b, Planet)\n",
    "    assert isinstance(b, TkPlanet)\n",
    "\n",
    "    assert b.size() == 0\n",
    "    assert b.graphic() is None\n",
    "\n",
    "    b.set_graphic(0)\n",
    "    assert b.graphic() == 0"
   ]
  },
  {
   "cell_type": "code",
   "execution_count": 11,
   "metadata": {
    "collapsed": false,
    "deletable": false,
    "editable": false,
    "nbgrader": {
     "checksum": "60e74bfcf994eb3446c6393c240bfafb",
     "grade": true,
     "grade_id": "tkbody_test2",
     "locked": true,
     "points": 3,
     "schema_version": 1,
     "solution": false
    },
    "outputExpanded": false
   },
   "outputs": [],
   "source": [
    "if IPython:\n",
    "    bodies = read_bodies('solarsystem.txt', TkPlanet)\n",
    "\n",
    "    assert isinstance(bodies[0], TkPlanet)\n",
    "\n",
    "    assert bodies[0].name() == 'sun'\n",
    "    assert bodies[0].size() == 10\n",
    "    assert bodies[0].color() == '#ffff00'"
   ]
  },
  {
   "cell_type": "markdown",
   "metadata": {
    "deletable": true,
    "editable": true,
    "outputExpanded": false
   },
   "source": [
    "##### <span style=\"color:red\">Documentation:</span>"
   ]
  },
  {
   "cell_type": "markdown",
   "metadata": {
    "deletable": false,
    "editable": true,
    "nbgrader": {
     "checksum": "3f53fca46fd116b7f427a5a13d2a1200",
     "grade": true,
     "grade_id": "tkbody_doc",
     "locked": false,
     "points": 5,
     "schema_version": 1,
     "solution": true
    }
   },
   "source": [
    "TkPlanet inherits all the properties from Planet and adds on two extra parameters: size, and graphic. \n",
    "\n",
    "The __init__ statement inherits the information from the Planet __init__ statement, and then adds the size and graphic portions. \n",
    "\n",
    "size defaults to zero, and it represents the size of the planet in pixels that will be represented. \n",
    "\n",
    "graphic defaults to None, and it represents the ID number of the TkPlanet that we are using. \n",
    "\n",
    "size() returns the size, graphic() returns the value for graphic, and set_graphic() changes the value of graphic inside the class. "
   ]
  },
  {
   "cell_type": "markdown",
   "metadata": {
    "deletable": true,
    "editable": true,
    "outputExpanded": false
   },
   "source": [
    "###  <span style=\"color:teal\">Part 2: &nbsp; SolarSystemCanvas (25 points)</span>"
   ]
  },
  {
   "cell_type": "markdown",
   "metadata": {
    "deletable": true,
    "editable": true,
    "outputExpanded": false
   },
   "source": [
    "A SolarSystemCanvas is a type of Canvas used to draw planets.  An instance of this class has the following methods:\n",
    "* `set_planets` is passed a list of all the bodies in the simulation; it should save this list in an instance variable for use later\n",
    "* `view_planets` is passed an integer `n`, and it should draw circles representing the first `n` bodies in the list (and save the value of `n` in an instance variable)\n",
    "* `move_planets` is also passed a complete list of body objects; it should use the positions of the first `n` bodies to compute new locations of the circles of the `n` planets currently on the canvas\n",
    "\n",
    "Much of the code for this class has been written already for you.  Here are the details of the methods you need to fill in."
   ]
  },
  {
   "cell_type": "markdown",
   "metadata": {
    "deletable": true,
    "editable": true,
    "outputExpanded": false
   },
   "source": [
    "#### `_compute_scale` "
   ]
  },
  {
   "cell_type": "markdown",
   "metadata": {
    "deletable": true,
    "editable": true,
    "outputExpanded": false
   },
   "source": [
    "An important role for this class is to convert solar system coordinates (billions of meters) into screen coordinates (hundreds of pixels).  The method named `_compute_scale` calculates a scaling factor so that when a body is displayed it is placed at the correct location on the screen.  The formula is"
   ]
  },
  {
   "cell_type": "markdown",
   "metadata": {
    "deletable": true,
    "editable": true,
    "outputExpanded": false
   },
   "source": [
    "$$f = \\frac{p\\,/\\,2}{| \\, d_\\mathrm{max} \\, |} $$"
   ]
  },
  {
   "cell_type": "markdown",
   "metadata": {
    "deletable": true,
    "editable": true,
    "outputExpanded": false
   },
   "source": [
    "where $p$ is the height or width (whichever is smaller) of the canvas, in pixels, and $d_\\mathrm{max}$ is the largest distance to any planet in the list passed to the method.\n",
    "\n",
    "For example, suppose the screen is 500 pixels wide and 400 pixels tall, and this method is called with a list of 6 bodies, for the sun and all the planets up through Jupiter.  The largest distance is the $x$ coordinate of Jupiter at the start of the simulation, which is $-7.5 \\times 10^{11}$.  Plug these values into the equation to get \n",
    "\n",
    "$$\n",
    "f = \\frac{200} { 7.5 * 10^{11} } = 2.67 \\times 10^{-9}\n",
    "$$\n",
    "\n",
    "There are different ways to figure out the largest distance.  A simple method is to find the maximum of the norm of each position vector; another is to find the largest absolute value of any $x$ or $y$ coordinate.  \n",
    "\n",
    "You can also include a \"fudge factor\" if you want to add a little extra space so the furthest orbit does not bump up against the edge of the canvas.  For example, if you use $1.1 \\times d_\\mathrm{max}$ in the denominator the planets will be about 10% closer to the center.\n",
    "\n",
    "Your method should compute the scale factor and save it in an instance variable named `_scale` so it can be used later when the planets are drawn and moved.\n",
    "\n",
    "**Important:** You need to save the scale factor in `self._scale` because that is the name used by the other methods which we have written for you."
   ]
  },
  {
   "cell_type": "markdown",
   "metadata": {
    "deletable": true,
    "editable": true,
    "outputExpanded": false
   },
   "source": [
    "#### `view_planets` "
   ]
  },
  {
   "cell_type": "markdown",
   "metadata": {
    "deletable": true,
    "editable": true,
    "outputExpanded": false
   },
   "source": [
    "This method will be passed an integer `n`, and it needs to draw circles representing the first `n` planets in the current list of TkPlanet objects (which have been saved in the instance variable `self._planets`).  Your method needs to:\n",
    "* compute the scale factor for this list of planets\n",
    "* delete any planets and lines that are on the canvas\n",
    "* draw circles for the first `n` planets in `self._planets`\n",
    "* save the value of `n` in `self._outer` so it can be used by `move_planets`\n",
    "\n",
    "The circles should use the size and color attributes of the TkPlanet objects that represent the planets."
   ]
  },
  {
   "cell_type": "markdown",
   "metadata": {
    "deletable": true,
    "editable": true,
    "outputExpanded": false
   },
   "source": [
    "#### `move_planets` "
   ]
  },
  {
   "cell_type": "markdown",
   "metadata": {
    "deletable": true,
    "editable": true,
    "outputExpanded": false
   },
   "source": [
    "This method will be called by the main simulator after each time step.  The argument passed to the method is the list of TkPlanet objects with their updated position vectors.  You want to move the circles for the first $n$ of these objects, where $n$ is the number of planets currently displayed on the canvas.\n",
    "\n",
    "For each planet currently on the canvas:\n",
    "* get the $x$ and $y$ coordinates of the current location of the circle\n",
    "* compute the $x$ and $y$ coordinates for the updated location\n",
    "* move the circle to the new location\n",
    "* draw a line segment from the old location to the new location\n",
    "\n",
    "**Note:** Two methods that compute screen locations have been written for you.  \n",
    "* Call `self._current_loc(p)` to get the $x$ and $y$ coordinates of the center of the circle representing planet `p`.  \n",
    "* Call `self._compute_loc(p)` to get the $x$ and $y$ coordinates for the new center of the circle based on the position vector of planet `p`."
   ]
  },
  {
   "cell_type": "code",
   "execution_count": 12,
   "metadata": {
    "collapsed": false,
    "deletable": false,
    "editable": true,
    "nbgrader": {
     "checksum": "58b6c6977ad0de73bab6912dad159360",
     "grade": true,
     "grade_id": "solar_system_canvas",
     "locked": false,
     "points": 14,
     "schema_version": 1,
     "solution": true
    },
    "outputExpanded": false
   },
   "outputs": [],
   "source": [
    "class SolarSystemCanvas(tk.Canvas):\n",
    "    \n",
    "    '''\n",
    "    Creates a Canvas on which our solar system can move based on a list of planets that is given. \n",
    "    '''\n",
    "    \n",
    "    def __init__(self, parent, height=600, width=600):\n",
    "        tk.Canvas.__init__(self, parent, height=height, width=width, background='gray90', highlightthickness=0)\n",
    "        self._planets = None\n",
    "        self._outer = None\n",
    "        self._scale = None\n",
    "        self._offset = Vector(int(self['width'])/2, int(self['height'])/2, 0)\n",
    "        \n",
    "    def set_planets(self, lst):\n",
    "        self._planets = lst\n",
    "        self._outer = len(lst)\n",
    "        self._compute_scale(lst)\n",
    "        self.view_planets(len(lst))\n",
    "        \n",
    "    def view_planets(self, n):\n",
    "        '''\n",
    "        Uses the Canvas of SolarSystemCanvas to view the planets that are provided to SolarSystemCanvas\n",
    "        \n",
    "        :param n int: Number of planets (including the sun) that wish to be viewed.\n",
    "        :return None: \n",
    "        :rtype: None\n",
    "        \n",
    "        '''\n",
    "        self._compute_scale(self._planets[:n + 1])\n",
    "        self.pack()\n",
    "        self._outer = n\n",
    "        for x in self.find_all():\n",
    "            self.delete(x)\n",
    "        for i in range(n):\n",
    "            body = self._planets[i]\n",
    "            rad = body.size() // 2\n",
    "            location = self._compute_loc(body)\n",
    "            x1 = location[0] - rad\n",
    "            x2 = location[0] + rad\n",
    "            y1 = location[1] - rad\n",
    "            y2 = location[1] + rad\n",
    "            g = self.create_oval((x1, y1) , (x2, y2) , fill = self._planets[i].color())\n",
    "            body.set_graphic(g)\n",
    "            \n",
    "        \n",
    "    def move_planets(self, lst):\n",
    "        '''\n",
    "        Moves the planets from one location to the next while drawing a line between those two locations. \n",
    "        \n",
    "        :param lst list: List of planets.\n",
    "        :return: None.\n",
    "        :rtype: None.\n",
    "        \n",
    "        ''' \n",
    "        for i in range(self._outer):\n",
    "            curr_loc = self._current_loc(lst[i])\n",
    "            fut_loc = self._compute_loc(lst[i])\n",
    "            x_dist = fut_loc[0] - curr_loc[0]\n",
    "            y_dist = fut_loc[1] - curr_loc[1]\n",
    "            self.move(lst[i].graphic(), x_dist, y_dist)\n",
    "            line = self.create_line((curr_loc), (fut_loc))\n",
    "        \n",
    "    def _compute_scale(self, bodies):\n",
    "        '''\n",
    "        Computes the scale factor for the SolarSystemCanvas, translating meters into pixels.\n",
    "        \n",
    "        :param bodies: The list of planets that we are working with. \n",
    "        :return: None.\n",
    "        :rtype: None.\n",
    "        '''\n",
    "        fudge = 1.1\n",
    "        p = float(min(self['height'], self['width']))\n",
    "        d_max = max([bodies[i].position().norm() for i in range(len(bodies))])\n",
    "        self._scale = fudge * (p / 2) / d_max\n",
    "    \n",
    "    def _compute_loc(self, p):\n",
    "        pos = p.position() * self._scale + self._offset\n",
    "        return pos.x(), pos.y()\n",
    "    \n",
    "    def _current_loc(self, p):\n",
    "        ul, ur, _, _ = self.coords(p.graphic())\n",
    "        return ul + p.size(), ur + p.size()\n",
    " "
   ]
  },
  {
   "cell_type": "markdown",
   "metadata": {
    "deletable": true,
    "editable": true,
    "outputExpanded": false
   },
   "source": [
    "##### <span style=\"color:red\">Tests:</span>"
   ]
  },
  {
   "cell_type": "markdown",
   "metadata": {
    "deletable": true,
    "editable": true,
    "outputExpanded": false
   },
   "source": [
    "Use the following code cell as a \"sandbox\" if you want to do your own tests of the SolarSystemCanvas class.  You can add additional cells here if you want."
   ]
  },
  {
   "cell_type": "code",
   "execution_count": 13,
   "metadata": {
    "collapsed": false,
    "deletable": true,
    "editable": true,
    "inputHidden": false,
    "outputHidden": false
   },
   "outputs": [],
   "source": [
    "app = tk.Tk()\n",
    "\n",
    "s = SolarSystemCanvas(app)\n",
    "bodies = read_bodies('solarsystem.txt', TkPlanet)\n",
    "s.set_planets(bodies)\n",
    "s.view_planets(4)\n",
    "\n",
    "for i in range(100):\n",
    "    step_system(bodies)\n",
    "    s.move_planets(bodies)"
   ]
  },
  {
   "cell_type": "markdown",
   "metadata": {
    "deletable": true,
    "editable": true,
    "outputExpanded": false
   },
   "source": [
    "# <span style=\"color:red\">Autograder Tests:</span>"
   ]
  },
  {
   "cell_type": "markdown",
   "metadata": {
    "deletable": true,
    "editable": true,
    "outputExpanded": false
   },
   "source": [
    "**Important:** &nbsp;  the code cells in this section will be used by `nbgrader` to run automated tests.  Do not move, delete or alter these cells in any way."
   ]
  },
  {
   "cell_type": "code",
   "execution_count": 14,
   "metadata": {
    "collapsed": false,
    "deletable": false,
    "editable": false,
    "nbgrader": {
     "checksum": "d653ceed60f5a808738de329eb13e084",
     "grade": false,
     "grade_id": "canvas_setup",
     "locked": true,
     "schema_version": 1,
     "solution": false
    },
    "outputExpanded": false
   },
   "outputs": [],
   "source": [
    "if IPython:\n",
    "    canvas = SolarSystemCanvas(tk.Tk(), height=400, width=400)\n",
    "    canvas.pack()\n",
    "    bodies = read_bodies('solarsystem.txt', TkPlanet)"
   ]
  },
  {
   "cell_type": "code",
   "execution_count": 15,
   "metadata": {
    "collapsed": false,
    "deletable": false,
    "editable": false,
    "nbgrader": {
     "checksum": "3ca84170fbf9a8e2675baa8a7653c348",
     "grade": true,
     "grade_id": "canvas_test1",
     "locked": true,
     "points": 3,
     "schema_version": 1,
     "solution": false
    },
    "outputExpanded": false
   },
   "outputs": [],
   "source": [
    "if IPython:\n",
    "    canvas.set_planets(bodies)\n",
    "    canvas.view_planets(2)\n",
    "    assert [canvas.type(x) for x in canvas.find_all()].count('oval') == 2"
   ]
  },
  {
   "cell_type": "code",
   "execution_count": 16,
   "metadata": {
    "collapsed": false,
    "deletable": false,
    "editable": false,
    "nbgrader": {
     "checksum": "3858c814fccde48b9ae04a37f4d375da",
     "grade": true,
     "grade_id": "canvas_test2",
     "locked": true,
     "points": 3,
     "schema_version": 1,
     "solution": false
    },
    "outputExpanded": false
   },
   "outputs": [],
   "source": [
    "if IPython:\n",
    "    for i in range(10):\n",
    "        step_system(bodies)\n",
    "        canvas.move_planets(bodies)\n",
    "    tk_objects = canvas.find_all()\n",
    "    assert len(tk_objects) == 22\n",
    "    assert [canvas.type(x) for x in tk_objects].count('line') == 20"
   ]
  },
  {
   "cell_type": "markdown",
   "metadata": {
    "deletable": true,
    "editable": true,
    "outputExpanded": false
   },
   "source": [
    "##### <span style=\"color:red\">Documentation:</span>"
   ]
  },
  {
   "cell_type": "markdown",
   "metadata": {
    "deletable": false,
    "editable": true,
    "nbgrader": {
     "checksum": "c309cbcf2fbab71fda1dd01b0b08a51a",
     "grade": true,
     "grade_id": "canvas_doc",
     "locked": false,
     "points": 5,
     "schema_version": 1,
     "solution": true
    }
   },
   "source": [
    "SolarSystemCanvas is a Canvas that allows us more specificity for our solar system than a regular Canvas would.\n",
    "\n",
    "_compute_scale takes the list of bodies that it is given, finds the minimum of our SolarSystemClass's height or width and stores it as p. Finds the longest vector in the n bodies that we want to display and stores that as d_max. fudge is a factor to ensure that the bodies stay within the boundaries of the Canvas. It brings the planets closer to the center. self._scale is then changed to fudge * (p / 2) / d_max. \n",
    "\n",
    "view_planets first calculates _compute_scale for the first n planets. Then it saves n as self._outer. It then deletes all of the planets off of the current Canvas. It then uses _compute_loc to find out the next location and stores that as location. It then creates a circle of appropriate size by using the .size() method for TkPlanet and puts it at location. Then it sets that graphic. \n",
    "\n",
    "move_planets moves the planet using .move() and using the future location - current location for the x and y movement coordinates. It then uses .create_line() to create a line between the current location and the future location. It does this for all planets in the range of self._outer. "
   ]
  },
  {
   "cell_type": "markdown",
   "metadata": {
    "deletable": true,
    "editable": true,
    "outputExpanded": false
   },
   "source": [
    "###  <span style=\"color:teal\">Part 3: &nbsp; Viewbox (15 points)</span>"
   ]
  },
  {
   "cell_type": "markdown",
   "metadata": {
    "deletable": true,
    "editable": true,
    "outputExpanded": false
   },
   "source": [
    "A Viewbox is a special type of Spinbox used to specify the number of planets to display on the canvas.  A Viewbox will have a minimum value of 2 (the canvas should always show at least the Sun and Mercury) and a maximum value equal to the number of bodies in the data set.\n",
    "\n",
    "The `__init__` function has been written for you.  It initializes the new Viewbox by passing the callback function to the parent class constructor (this function will be called when users click either the up or down button in the Spinbox).\n",
    "\n",
    "Note that a new Viewbox widget is initially disabled.  That's because we won't know how many bodies are in the data set until later, when the data is read from a file.  When the data is loaded, the top level application will call a method named `set_limit`.  You need to fill in the body of this method:\n",
    "* enable the spinbox (this must be done first, before the other operations)\n",
    "* set the lower bound to 2, and the upper bound to the number of bodies\n",
    "* change the value displayed in the spinbox to the number of bodies"
   ]
  },
  {
   "cell_type": "markdown",
   "metadata": {
    "deletable": true,
    "editable": true,
    "outputExpanded": false
   },
   "source": [
    "##### <span style=\"color:red\">Code:</span>"
   ]
  },
  {
   "cell_type": "code",
   "execution_count": 13,
   "metadata": {
    "collapsed": false,
    "deletable": false,
    "editable": true,
    "nbgrader": {
     "checksum": "a6317d3e17ff43737d23eb8938a5b926",
     "grade": true,
     "grade_id": "viewbox",
     "locked": false,
     "points": 5,
     "schema_version": 1,
     "solution": true
    },
    "outputExpanded": false
   },
   "outputs": [],
   "source": [
    "class Viewbox(tk.Spinbox):\n",
    "    '''\n",
    "    Creates a spinbox specifically for our solar system model.\n",
    "    '''\n",
    "    \n",
    "    def __init__(self, parent, callback):\n",
    "        tk.Spinbox.__init__(self, parent, command=callback, width=3, state=tk.DISABLED)\n",
    "                        \n",
    "    def set_limit(self, nbodies):\n",
    "        '''\n",
    "        Defines the variables of the spinbox, sets the default value to nbodies, and makes the spinbox functional\n",
    "        \n",
    "        :param nbodies int: The number of bodies in the simulation.\n",
    "        :return: None.\n",
    "        :rtype: None.\n",
    "        '''\n",
    "        self['state'] = tk.NORMAL \n",
    "        self['to'] = nbodies\n",
    "        self['from'] = 2\n",
    "        self.delete(0, tk.END)\n",
    "        self.insert(0, nbodies)\n",
    "    \n",
    "    thing = tk.Spinbox(tk.Tk(), command = set_limit, from_ = 2, to = 10, width = 3, font = ('Helvetica', 24))\n",
    "    thing.pack()\n"
   ]
  },
  {
   "cell_type": "markdown",
   "metadata": {
    "deletable": true,
    "editable": true,
    "outputExpanded": false
   },
   "source": [
    "##### <span style=\"color:red\">Tests:</span>"
   ]
  },
  {
   "cell_type": "markdown",
   "metadata": {
    "deletable": true,
    "editable": true,
    "outputExpanded": false
   },
   "source": [
    "Use the following code cell as a \"sandbox\" if you want to do your own tests of the Viewbox class.  You can add additional cells here if you want."
   ]
  },
  {
   "cell_type": "code",
   "execution_count": 63,
   "metadata": {
    "collapsed": false,
    "deletable": true,
    "editable": true,
    "outputExpanded": false
   },
   "outputs": [
    {
     "data": {
      "text/plain": [
       "'5'"
      ]
     },
     "execution_count": 63,
     "metadata": {},
     "output_type": "execute_result"
    }
   ],
   "source": [
    "vb = Viewbox(tk.Tk(), vb_cb)\n",
    "vb.pack()\n",
    "vb.set_limit(5)\n",
    "vb.get()"
   ]
  },
  {
   "cell_type": "markdown",
   "metadata": {
    "deletable": true,
    "editable": true,
    "outputExpanded": false
   },
   "source": [
    "##### <span style=\"color:red\">Autograder Tests:</span>"
   ]
  },
  {
   "cell_type": "markdown",
   "metadata": {
    "deletable": true,
    "editable": true,
    "outputExpanded": false
   },
   "source": [
    "**Important:** &nbsp;  the code cells in this section will be used by `nbgrader` to run automated tests.  Do not move, delete or alter these cells in any way."
   ]
  },
  {
   "cell_type": "code",
   "execution_count": 18,
   "metadata": {
    "collapsed": true,
    "deletable": false,
    "editable": false,
    "nbgrader": {
     "checksum": "a507f86ba88846b973441b3c602affe3",
     "grade": false,
     "grade_id": "vb_setup",
     "locked": true,
     "schema_version": 1,
     "solution": false
    },
    "outputExpanded": false
   },
   "outputs": [],
   "source": [
    "def vb_cb():\n",
    "    global called\n",
    "    called = True\n",
    "\n",
    "if IPython:\n",
    "    vb = Viewbox(tk.Tk(), vb_cb)\n",
    "    vb.pack()        "
   ]
  },
  {
   "cell_type": "code",
   "execution_count": 19,
   "metadata": {
    "collapsed": true,
    "deletable": false,
    "editable": false,
    "nbgrader": {
     "checksum": "40b6ef1df70505dcb5742dbf63fe14e3",
     "grade": true,
     "grade_id": "vb_test_new",
     "locked": true,
     "points": 1,
     "schema_version": 1,
     "solution": false
    },
    "outputExpanded": false
   },
   "outputs": [],
   "source": [
    "if IPython:\n",
    "    called = False\n",
    "    vb.invoke('buttondown')\n",
    "    vb.invoke('buttonup')\n",
    "    assert not called"
   ]
  },
  {
   "cell_type": "code",
   "execution_count": 20,
   "metadata": {
    "collapsed": false,
    "deletable": false,
    "editable": false,
    "nbgrader": {
     "checksum": "d08f04e3186d725971f9e038354c3f04",
     "grade": true,
     "grade_id": "vb_test_set",
     "locked": true,
     "points": 2,
     "schema_version": 1,
     "solution": false
    },
    "outputExpanded": false
   },
   "outputs": [],
   "source": [
    "if IPython:\n",
    "    vb.set_limit(5)\n",
    "    assert vb.get() == '5'\n",
    "    assert vb['from'] == 2\n",
    "    assert vb['to'] == 5"
   ]
  },
  {
   "cell_type": "code",
   "execution_count": 21,
   "metadata": {
    "collapsed": false,
    "deletable": false,
    "editable": false,
    "nbgrader": {
     "checksum": "fbf7cb7dc5c56aceff8b4585e001b864",
     "grade": true,
     "grade_id": "vb_test_use",
     "locked": true,
     "points": 2,
     "schema_version": 1,
     "solution": false
    },
    "outputExpanded": false
   },
   "outputs": [],
   "source": [
    "if IPython:\n",
    "    called = False\n",
    "    vb.invoke('buttondown')\n",
    "    assert vb.get() == '4'\n",
    "    vb.invoke('buttonup')\n",
    "    assert vb.get() == '5'\n",
    "    assert called"
   ]
  },
  {
   "cell_type": "markdown",
   "metadata": {
    "deletable": true,
    "editable": true,
    "outputExpanded": false
   },
   "source": [
    "##### <span style=\"color:red\">Documentation:</span>"
   ]
  },
  {
   "cell_type": "markdown",
   "metadata": {
    "deletable": false,
    "editable": true,
    "nbgrader": {
     "checksum": "9d3913fa95421841c1534192082f5f15",
     "grade": true,
     "grade_id": "view_doc",
     "locked": false,
     "points": 5,
     "schema_version": 1,
     "solution": true
    },
    "outputExpanded": false
   },
   "source": [
    "Viewbox is a spinbox that allows us to control how many planets we would like to see. \n",
    "\n",
    "The __init__ function bases the class of a spinbox that is currently disabled and that has a function called callback that will be initiated once it is used. \n",
    "\n",
    "set_limit changes the state of the spinbox to normal, sets the top number of the spinbox to the number of bodies that it has, and makes the default value of the spinbox be the nbodies.\n",
    "\n",
    "The Viewbox is then assigned to thing with default values of 2 and 10 with a command of set_limit. "
   ]
  },
  {
   "cell_type": "markdown",
   "metadata": {
    "deletable": true,
    "editable": true,
    "outputExpanded": false
   },
   "source": [
    "###  <span style=\"color:teal\">Part 4: &nbsp; RunFrame (20 points)</span>"
   ]
  },
  {
   "cell_type": "markdown",
   "metadata": {
    "deletable": true,
    "editable": true,
    "outputExpanded": false
   },
   "source": [
    "A RunFrame is a container that has a run button, text entry boxes for the time step size and number of steps to run, and a progress bar to show how many steps have been executed.\n",
    "\n",
    "The entry boxes for the time step size and number of steps should be initialized to show the default values for those parameters:  86459 for the time step size and 365 for the number of steps.\n",
    "\n",
    "After an application has created a RunFrame object named `r` it should be able to call the following methods to interact with `r`:\n",
    "* `r.dt()` returns the time step size from the time step entry box\n",
    "* `r.nsteps()` returns the number of time steps indicated in that entry box\n",
    "* `t.target(n)` sets the upper bound in the progress bar\n",
    "* `t.update_progress(n)` sets the value to show in the progress bar\n",
    "\n",
    "Your job is to fill in the body of the `__init__` method so it creates the button, labels, and entry boxes, and fill in the bodies of the methods listed above.\n",
    "\n",
    "The constructor will be passed a reference to a callback function that will be called when the run button is pushed.  You should pass this function to the constructor that makes the Button.\n",
    "\n",
    "**Note:**  The run button should be disabled when it is created. The function that loads a data set will enable the button by calling `enable_button` (which has been written for you).\n",
    "\n",
    "**Note:** &nbsp; In order to test your RunFrame we need to know the names you give to some of the parts of the frame.  Make sure you use the following instance variable names:\n",
    "* `_run_button` for the button that starts the simulation\n",
    "* `_dt_entry` for the entry box for time step size\n",
    "* `_nsteps_entry` for the entry box with the number of steps"
   ]
  },
  {
   "cell_type": "markdown",
   "metadata": {
    "deletable": true,
    "editable": true,
    "outputExpanded": false
   },
   "source": [
    "##### <span style=\"color:red\">Code:</span>"
   ]
  },
  {
   "cell_type": "markdown",
   "metadata": {
    "deletable": true,
    "editable": true,
    "outputExpanded": false
   },
   "source": [
    "**Important:** &nbsp; Add your Python code to the following code cell.  Do not delete, rename, or copy this cell."
   ]
  },
  {
   "cell_type": "code",
   "execution_count": 47,
   "metadata": {
    "collapsed": false,
    "deletable": false,
    "editable": true,
    "nbgrader": {
     "checksum": "5eef489f7d7679afa6396175ea0e2b50",
     "grade": true,
     "grade_id": "run_frame",
     "locked": false,
     "points": 7,
     "schema_version": 1,
     "solution": true
    },
    "outputExpanded": false
   },
   "outputs": [],
   "source": [
    "class RunFrame(tk.Frame):\n",
    "    '''\n",
    "    Uses tk.Frame to let us run our simulation. \n",
    "    '''\n",
    "    \n",
    "    def __init__(self, parent, callback):\n",
    "        '''\n",
    "        Creates values for width and height of the Frame, as well as values for the run button, the dt entry and the \n",
    "        number of steps entry. It also packs these buttons. \n",
    "        \n",
    "        :param parent Tk: The parent application.\n",
    "        :param callback function: The callback function.\n",
    "        :return None:\n",
    "        :rtype: None.\n",
    "        '''\n",
    "        tk.Frame.__init__(self, parent)\n",
    "        \n",
    "        self['width'] = 200\n",
    "        self['height'] = 100\n",
    "        self._run_button = tk.Button(self, text = \"Run\", command = callback)\n",
    "        self._run_button['state'] = tk.DISABLED\n",
    "        self._dt_entry = tk.Entry(self)\n",
    "        self._dt_entry.delete(0, tk.END)\n",
    "        self._dt_entry.insert(0, 86459)\n",
    "        self._nsteps_entry = tk.Entry(self)\n",
    "        self._nsteps_entry.delete(0, tk.END)\n",
    "        self._nsteps_entry.insert(0, 365)\n",
    "        self._progress = ttk.Progressbar(self)\n",
    "        self._run_button.pack()\n",
    "        self._dt_entry.pack()\n",
    "        self._nsteps_entry.pack()\n",
    "        self._progress.pack()\n",
    "         \n",
    "    def dt(self):\n",
    "        '''\n",
    "        Returns the value that is currently in the dt entry box.\n",
    "        \n",
    "        :return: Value in the dt entry box.\n",
    "        :rtype: int\n",
    "        '''\n",
    "        return int(self._dt_entry.get())\n",
    "    \n",
    "    def nsteps(self):\n",
    "        '''\n",
    "        Returns the value that is currently the the number of steps box. \n",
    "        \n",
    "        :return: Value that is currently in the nsteps box. \n",
    "        :rtype: int\n",
    "        '''\n",
    "        return int(self._nsteps_entry.get())\n",
    "        \n",
    "    def enable_button(self):\n",
    "        self._run_button['state'] = tk.NORMAL\n",
    "        \n",
    "    def init_progress(self, n):\n",
    "        '''\n",
    "        Sets the maximum value of the progress bar.\n",
    "        \n",
    "        :param n int: The maximum of the progress bar. \n",
    "        :return: None.\n",
    "        :rtype: None.\n",
    "        '''\n",
    "        self._progress['maximum'] = n\n",
    "        \n",
    "    def update_progress(self, n):\n",
    "        '''\n",
    "        Adds n to the amount the progress bar has progressed as long it will not be greater than the maximum value.\n",
    "        \n",
    "        :param n int: The number of steps that want to be taken\n",
    "        :return: None\n",
    "        :rtype: None.\n",
    "        \n",
    "        '''\n",
    "        if self._progress['value'] + n =< self._progress['maximum']:\n",
    "            self._progress['value'] += n\n",
    "        \n",
    "    def clear_progress(self):\n",
    "        self._progress['value'] = 0\n"
   ]
  },
  {
   "cell_type": "markdown",
   "metadata": {
    "deletable": true,
    "editable": true,
    "outputExpanded": false
   },
   "source": [
    "##### <span style=\"color:red\">Tests:</span>"
   ]
  },
  {
   "cell_type": "markdown",
   "metadata": {
    "deletable": true,
    "editable": true,
    "outputExpanded": false
   },
   "source": [
    "Use the following code cell as a \"sandbox\" if you want to do your own tests.  You can add additional cells here if you want."
   ]
  },
  {
   "cell_type": "code",
   "execution_count": 48,
   "metadata": {
    "collapsed": false,
    "deletable": true,
    "editable": true,
    "outputExpanded": false
   },
   "outputs": [
    {
     "data": {
      "text/plain": [
       "50.0"
      ]
     },
     "execution_count": 48,
     "metadata": {},
     "output_type": "execute_result"
    }
   ],
   "source": [
    "rf = RunFrame(tk.Tk(), rf_cb)\n",
    "rf.pack()\n",
    "\n",
    "counts = { }\n",
    "for x in rf.children.values():\n",
    "    counts.setdefault(type(x).__name__, 0)\n",
    "    counts[type(x).__name__] += 1\n",
    "\n",
    "rf.init_progress(100)\n",
    "for i in range(5):\n",
    "    rf.update_progress(10)\n",
    "rf._progress['value']"
   ]
  },
  {
   "cell_type": "markdown",
   "metadata": {
    "deletable": true,
    "editable": true,
    "outputExpanded": false
   },
   "source": [
    "##### <span style=\"color:red\">Autograder Tests:</span>"
   ]
  },
  {
   "cell_type": "markdown",
   "metadata": {
    "deletable": true,
    "editable": true,
    "outputExpanded": false
   },
   "source": [
    "**Important:** &nbsp;  the code cells in this section will be used by `nbgrader` to run automated tests.  Do not move, delete or alter these cells in any way."
   ]
  },
  {
   "cell_type": "code",
   "execution_count": 49,
   "metadata": {
    "collapsed": false,
    "deletable": false,
    "editable": false,
    "nbgrader": {
     "checksum": "7cf9b054d9fbf1451cc6e42cbf1136ee",
     "grade": false,
     "grade_id": "rf_setup",
     "locked": true,
     "schema_version": 1,
     "solution": false
    },
    "outputExpanded": false
   },
   "outputs": [],
   "source": [
    "def rf_cb():\n",
    "    global calls\n",
    "    calls += 1\n",
    "\n",
    "if IPython:\n",
    "    rf = RunFrame(tk.Tk(), rf_cb)\n",
    "    rf.pack()"
   ]
  },
  {
   "cell_type": "code",
   "execution_count": 50,
   "metadata": {
    "collapsed": false,
    "deletable": false,
    "editable": false,
    "nbgrader": {
     "checksum": "ed1b5ca08229ce320c9d88319abd2eee",
     "grade": true,
     "grade_id": "rf_test1",
     "locked": true,
     "points": 2,
     "schema_version": 1,
     "solution": false
    },
    "outputExpanded": false
   },
   "outputs": [],
   "source": [
    "if IPython:\n",
    "    counts = { }\n",
    "    for x in rf.children.values():\n",
    "        counts.setdefault(type(x).__name__, 0)\n",
    "        counts[type(x).__name__] += 1\n",
    "    assert counts['Button'] == 1\n",
    "    assert counts['Entry'] == 2\n",
    "    assert counts['Progressbar'] == 1\n",
    "    assert rf._dt_entry.get() == '86459'\n",
    "    assert rf._nsteps_entry.get() == '365'"
   ]
  },
  {
   "cell_type": "code",
   "execution_count": 51,
   "metadata": {
    "collapsed": true,
    "deletable": false,
    "editable": false,
    "nbgrader": {
     "checksum": "d37e8f1c2cf0d9cae8007a0e7b7b70ea",
     "grade": true,
     "grade_id": "rf_test2",
     "locked": true,
     "points": 2,
     "schema_version": 1,
     "solution": false
    },
    "outputExpanded": false
   },
   "outputs": [],
   "source": [
    "if IPython:\n",
    "    calls = 0\n",
    "    rf.enable_button()\n",
    "    rf._run_button.invoke()\n",
    "    rf._run_button.invoke()\n",
    "    assert calls == 2"
   ]
  },
  {
   "cell_type": "code",
   "execution_count": 52,
   "metadata": {
    "collapsed": false,
    "deletable": false,
    "editable": false,
    "nbgrader": {
     "checksum": "4721b5744b119b4336516d42780bfeaf",
     "grade": true,
     "grade_id": "rf_test3",
     "locked": true,
     "points": 2,
     "schema_version": 1,
     "solution": false
    },
    "outputExpanded": false
   },
   "outputs": [],
   "source": [
    "if IPython:\n",
    "    rf._dt_entry.delete(0, tk.END)\n",
    "    rf._dt_entry.insert(0, '100')\n",
    "    assert rf.dt() == 100\n",
    "    rf._nsteps_entry.delete(0, tk.END)\n",
    "    rf._nsteps_entry.insert(0, '1000')\n",
    "    assert rf.nsteps() == 1000"
   ]
  },
  {
   "cell_type": "code",
   "execution_count": 53,
   "metadata": {
    "collapsed": false,
    "deletable": false,
    "editable": false,
    "nbgrader": {
     "checksum": "adc469ac2150b1eb5bf1899154d95c08",
     "grade": true,
     "grade_id": "rf_test4",
     "locked": true,
     "points": 2,
     "schema_version": 1,
     "solution": false
    },
    "outputExpanded": false
   },
   "outputs": [],
   "source": [
    "if IPython:\n",
    "    rf.init_progress(100)\n",
    "    for i in range(5):\n",
    "        rf.update_progress(10)\n",
    "    assert rf._progress['value'] == 50"
   ]
  },
  {
   "cell_type": "markdown",
   "metadata": {
    "deletable": true,
    "editable": true,
    "outputExpanded": false
   },
   "source": [
    "##### <span style=\"color:red\">Documentation:</span>"
   ]
  },
  {
   "cell_type": "markdown",
   "metadata": {
    "deletable": false,
    "editable": true,
    "nbgrader": {
     "checksum": "7d5220bf41635a7d51f94d644e2ea96b",
     "grade": true,
     "grade_id": "run_doc",
     "locked": false,
     "points": 5,
     "schema_version": 1,
     "solution": true
    },
    "outputExpanded": false
   },
   "source": [
    "RunFrame creates the frame that allows us to run our solar system simulation.\n",
    "\n",
    "The __init__ function defines values for width and height of the Frame, as well as creating the run button as well as the dt and nsteps entry boxes and the progress bar. All of those are packed.\n",
    "\n",
    "dt() and nsteps() both return the integer value of what is currently in their respective entry boxes.\n",
    "\n",
    "enable_button makes the run_button functional.\n",
    "\n",
    "init_progress sets the maximum of the progress bar. \n",
    "\n",
    "update_progress updates the progress bar by adding n to the value of progress bar, as long as it doesn't go over the maximum. \n",
    "\n",
    "clear_progress changes the value of progress bar back to zero. "
   ]
  },
  {
   "cell_type": "markdown",
   "metadata": {
    "deletable": true,
    "editable": true,
    "outputExpanded": false
   },
   "source": [
    "###  <span style=\"color:teal\">Top Level Application</span>"
   ]
  },
  {
   "cell_type": "markdown",
   "metadata": {
    "deletable": true,
    "editable": true,
    "outputExpanded": false
   },
   "source": [
    "The application that instantiates all the widgets and links them together is shown below. You do not need to write any code -- the program will work when all of your widget definitions are complete. If you execute this code cell in the Jupyter notebook you will get a working application that will allow you to load a set of planet definitions and run the simulation.\n",
    "\n",
    "Even though you do not have to write anything you should look closely at this code since it will help you understand the methods you define in each of your components.\n",
    "\n",
    "To test your GUI, we will export the notebook to a command line application and run the application.  The graders will run the program and check the state of the canvas at the end of the simulation."
   ]
  },
  {
   "cell_type": "markdown",
   "metadata": {
    "deletable": true,
    "editable": true,
    "outputExpanded": false
   },
   "source": [
    "#### `load_cb` "
   ]
  },
  {
   "cell_type": "markdown",
   "metadata": {
    "deletable": true,
    "editable": true,
    "outputExpanded": false
   },
   "source": [
    "This function is called when the user clicks the Load button.  It uses a dialog to get the name of the file with planet definitions and reads the contents of the file to get a list of TkBody objects.  Notice how:\n",
    "* the list is passed to the `set_planets` method in the SolarSystemCanvas widget, which will draw circles for all the planets\n",
    "* the number of bodies is passed to the `reset` method in the ViewControl, which allows the user to click the up/down buttons to change the number of planets displayed"
   ]
  },
  {
   "cell_type": "markdown",
   "metadata": {
    "deletable": true,
    "editable": true,
    "outputExpanded": false
   },
   "source": [
    "#### `view_cb` "
   ]
  },
  {
   "cell_type": "markdown",
   "metadata": {
    "deletable": true,
    "editable": true,
    "outputExpanded": false
   },
   "source": [
    "This function is the callback for the ViewControl component.  Whenever the user changes the value of the counter the new value is passed to `view_planets` so the canvas is updated to show the new number of planets."
   ]
  },
  {
   "cell_type": "markdown",
   "metadata": {
    "deletable": true,
    "editable": true,
    "outputExpanded": false
   },
   "source": [
    "#### `run_cb` "
   ]
  },
  {
   "cell_type": "markdown",
   "metadata": {
    "deletable": true,
    "editable": true,
    "outputExpanded": false
   },
   "source": [
    "This function is the one that runs the simulation.  It is invoked when the user clicks the Run button in the RunFrame widget.  It gets the simulation parameters from the widget and then calls the `time_step` function to start the simulation.\n",
    "\n",
    "There body of the `time_step` function could just have a for loop that calls `step_system` for the specified number of time steps.  But since `run_cb` is a callback, Tk won't update the display until the callback is done, which means we won't see the planets move until after the last time step.\n",
    "\n",
    "The technique implemented here is pretty common in GUI programs.  It runs one time step and then uses the `after_idle` function to schedule a call to run the next time step 0.02 seconds later.  Once the next call is scheduled the callback exits and returns control to the GUI and we will see the planets moving."
   ]
  },
  {
   "cell_type": "code",
   "execution_count": 54,
   "metadata": {
    "collapsed": false,
    "deletable": true,
    "editable": true,
    "outputExpanded": false
   },
   "outputs": [],
   "source": [
    "root = tk.Tk()\n",
    "root.title(\"Solar System\")\n",
    "\n",
    "bodies = None\n",
    "\n",
    "def load_cb():\n",
    "    global bodies\n",
    "    fn = tk.filedialog.askopenfilename()\n",
    "    bodies = read_bodies(fn, TkPlanet)\n",
    "    canvas.set_planets(bodies)\n",
    "    view_counter.set_limit(len(bodies))\n",
    "    run_frame.enable_button()\n",
    "\n",
    "def view_cb():\n",
    "    canvas.view_planets(int(view_counter.get()))\n",
    "    \n",
    "def run_cb():\n",
    "    \n",
    "    def time_step():\n",
    "        nonlocal nsteps\n",
    "        step_system(bodies, dt)\n",
    "        canvas.move_planets(bodies)\n",
    "        run_frame.update_progress(1)\n",
    "        sleep(0.02)\n",
    "        if nsteps > 0:\n",
    "            nsteps -= 1\n",
    "            canvas.after_idle(time_step)\n",
    "        else:\n",
    "            run_frame.clear_progress()\n",
    "        \n",
    "    nsteps = run_frame.nsteps()\n",
    "    run_frame.init_progress(nsteps)\n",
    "    dt = run_frame.dt()\n",
    "    canvas.after_idle(time_step)\n",
    "\n",
    "canvas = SolarSystemCanvas(root)\n",
    "canvas.grid(row = 0, column = 0, columnspan = 3, padx = 10, pady = 10, sticky=\"nsew\")\n",
    "\n",
    "tk.Button(root, text='Load', command=load_cb).grid(row=1, column=0, pady = 20)\n",
    "\n",
    "view_frame = tk.Frame(root, width=100)\n",
    "tk.Label(view_frame, text='Planets to View').pack()\n",
    "view_counter = Viewbox(view_frame, view_cb)\n",
    "view_counter.pack()\n",
    "view_frame.grid(row=1, column=1, pady=20)\n",
    "\n",
    "run_frame = RunFrame(root, run_cb)\n",
    "run_frame.grid(row=1, column=2, pady=20)\n",
    "\n",
    "if Main and not IPython:\n",
    "    try:\n",
    "        bodies = read_bodies(\"solarsystem.txt\", TkPlanet)\n",
    "        canvas.set_planets(bodies)\n",
    "        view_count.reset(len(bodies))\n",
    "        for i in range(5):\n",
    "            view_count._spinbox.invoke('buttondown')\n",
    "        run_frame._nsteps_entry.delete(0, tk.END)\n",
    "        run_frame._nsteps_entry.insert(0,'100')\n",
    "        root.update()\n",
    "        run_frame._run_button.invoke()\n",
    "    except Exception as err:\n",
    "        print(err)\n",
    "    input('hit return to continue...')\n"
   ]
  },
  {
   "cell_type": "markdown",
   "metadata": {
    "deletable": true,
    "editable": true,
    "outputExpanded": false
   },
   "source": [
    "##### <span style=\"color:red\">Simulation Score</span>"
   ]
  },
  {
   "cell_type": "markdown",
   "metadata": {
    "deletable": true,
    "editable": true
   },
   "source": [
    "**Important:** &nbsp; You do not have to write anything for this part of the project.  Leave the cell below empty, in spite of the fact that is says \"your documentation here\".\n",
    "\n",
    "The graders will use the cell to write comments about your GUI and to enter the grade for your solar system simulation.  **Do not edit, move, rename, or delete the following cell.**"
   ]
  },
  {
   "cell_type": "markdown",
   "metadata": {
    "collapsed": true,
    "deletable": false,
    "editable": true,
    "nbgrader": {
     "checksum": "a6fed4f4cb028159f2b96f18bfefa35f",
     "grade": true,
     "grade_id": "simulation",
     "locked": false,
     "points": 20,
     "schema_version": 1,
     "solution": true
    },
    "outputExpanded": false
   },
   "source": [
    "YOUR DOCUMENTATION HERE"
   ]
  }
 ],
 "metadata": {
  "anaconda-cloud": {},
  "kernel_info": {
   "name": "python3"
  },
  "kernelspec": {
   "display_name": "Python 3",
   "language": "python",
   "name": "python3"
  },
  "language_info": {
   "codemirror_mode": {
    "name": "ipython",
    "version": 3
   },
   "file_extension": ".py",
   "mimetype": "text/x-python",
   "name": "python",
   "nbconvert_exporter": "python",
   "pygments_lexer": "ipython3",
   "version": "3.6.0"
  }
 },
 "nbformat": 4,
 "nbformat_minor": 1
}
