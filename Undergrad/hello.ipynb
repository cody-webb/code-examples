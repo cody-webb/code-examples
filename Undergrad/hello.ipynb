{
 "cells": [
  {
   "cell_type": "markdown",
   "metadata": {
    "deletable": true,
    "editable": true
   },
   "source": [
    "# <span style=\"color:teal;\">CIS 211 Project 1:  Hello, World</span>"
   ]
  },
  {
   "cell_type": "markdown",
   "metadata": {
    "deletable": true,
    "editable": true
   },
   "source": [
    "##### Due 11:00 P.M. April 7, 2017"
   ]
  },
  {
   "cell_type": "markdown",
   "metadata": {
    "deletable": true,
    "editable": true
   },
   "source": [
    "##### Reading:  none"
   ]
  },
  {
   "cell_type": "markdown",
   "metadata": {
    "collapsed": true,
    "deletable": true,
    "editable": true
   },
   "source": [
    "## Instructions"
   ]
  },
  {
   "cell_type": "markdown",
   "metadata": {
    "deletable": true,
    "editable": true
   },
   "source": [
    "This goal for this project is to work through the process for completing projects in CIS 211 this term:\n",
    "* download a project notebook from Canvas, save it as `hello.ipynb` \n",
    "* edit the file with Jupyter to add code and documentation\n",
    "* test your code\n",
    "* submit the completed notebook using Canvas"
   ]
  },
  {
   "cell_type": "markdown",
   "metadata": {
    "deletable": true,
    "editable": true
   },
   "source": [
    "The notebooks you download from Canvas will have specially tagged cells where you should write your code and documentation.  These cells will be read by the **autograder**, a program that automatically loads your program and runs a set of unit tests.  \n",
    "\n",
    "The specially tagged cells are immediately below red headlines that say **Code** or **Unit Tests** or **Documentation**.  \n",
    "\n",
    "**<span style=\"color:red\">Important!! &nbsp; Do not delete or move the specially tagged cells.</span>** "
   ]
  },
  {
   "cell_type": "markdown",
   "metadata": {
    "deletable": true,
    "editable": true
   },
   "source": [
    "##  <span style=\"color:teal\">The `hello` Function</span>"
   ]
  },
  {
   "cell_type": "markdown",
   "metadata": {
    "deletable": true,
    "editable": true
   },
   "source": [
    "Write a function named `hello` that will take a language name passed as a string and return a \"hello, world\" greeting in that language.\n",
    "\n",
    "Examples:\n",
    "<pre>\n",
    ">>> hello('english')\n",
    "'Hello, World!'\n",
    "\n",
    ">>> hello('french')\n",
    "'Bonjour, tout le monde!'\n",
    "\n",
    ">>> hello('arabic')\n",
    "'مرحبا يا عالم'\n",
    "</pre>\n",
    "\n",
    "Your function should be able to return a greeting in at least two languages -- English and French -- but you can have as many other languages as you would like.\n",
    "\n",
    "The strings to return for English and French are shown in the tests below.  Make sure you return these strings exactly as shown so your program passes the unit tests.\n",
    "\n",
    "If the language passed as an argument is not one of the languages you implemented return None.\n",
    "<pre>\n",
    ">>> hello('valyrian')\n",
    "</pre>"
   ]
  },
  {
   "cell_type": "markdown",
   "metadata": {
    "deletable": true,
    "editable": true
   },
   "source": [
    "##### Style Points:"
   ]
  },
  {
   "cell_type": "markdown",
   "metadata": {
    "deletable": true,
    "editable": true
   },
   "source": [
    "(1) Try to write your program without using a bunch of `if-elif` cases. This is <span style=\"color:red\"> not</span> a good way to structure the code in the body of your `hello` function:\n",
    "<pre>\n",
    "if lang == 'english':                   # bad style\n",
    "    reply = 'Hello, World!'\n",
    "elif lang == 'french':                  # ick\n",
    "    reply = 'Bonjour, tout le monde!'\n",
    "elif:                                   # ugh\n",
    "    ...\n",
    "</pre>\n",
    "\n",
    "(2) How do you want to handle situations where the language name is capitalized?  For full credit your function should work when called either as `hello(\"english\")` or `hello(\"English\")`."
   ]
  },
  {
   "cell_type": "markdown",
   "metadata": {
    "deletable": true,
    "editable": true
   },
   "source": [
    "##### <span style=\"color:red\">Code</span>"
   ]
  },
  {
   "cell_type": "code",
   "execution_count": 2,
   "metadata": {
    "collapsed": true,
    "deletable": false,
    "editable": true,
    "nbgrader": {
     "checksum": "af107feb0c154962d5bbcd8c4620928e",
     "grade": true,
     "grade_id": "hello_code",
     "locked": false,
     "points": 50,
     "schema_version": 1,
     "solution": true
    }
   },
   "outputs": [],
   "source": [
    "# YOUR CODE HERE\n",
    "def hello(language):\n",
    "    language = language.lower()\n",
    "    lang_dict = {'english': \"Hello, World!\",\n",
    "                'french': 'Bonjour, tout le monde!',\n",
    "                'spanish': '¡Hola, mundo!',\n",
    "                'german': 'Hallo welt!',\n",
    "                'portuguese': 'Olá Mundo!',\n",
    "                'dutch': 'Hallo Wereld!',\n",
    "                'italian': 'Ciao mondo!',\n",
    "                'mime': '',\n",
    "                'norwegian': 'Hei Verden!'}\n",
    "    \n",
    "    if language in lang_dict:\n",
    "        return lang_dict[language]\n",
    "    else:\n",
    "        return None"
   ]
  },
  {
   "cell_type": "markdown",
   "metadata": {
    "collapsed": true,
    "deletable": true,
    "editable": true
   },
   "source": [
    "##### <span style=\"color:red\">Auto-Grader Unit Tests</span>"
   ]
  },
  {
   "cell_type": "code",
   "execution_count": 3,
   "metadata": {
    "collapsed": false,
    "deletable": false,
    "editable": false,
    "nbgrader": {
     "checksum": "152419e4786c3d06a09439f658d4a3c5",
     "grade": true,
     "grade_id": "english",
     "locked": true,
     "points": 10,
     "schema_version": 1,
     "solution": false
    }
   },
   "outputs": [],
   "source": [
    "assert hello('english') == 'Hello, World!'"
   ]
  },
  {
   "cell_type": "code",
   "execution_count": 4,
   "metadata": {
    "collapsed": false,
    "deletable": false,
    "editable": false,
    "nbgrader": {
     "checksum": "033873513e329b84275ccd10416612e4",
     "grade": true,
     "grade_id": "french",
     "locked": true,
     "points": 10,
     "schema_version": 1,
     "solution": false
    }
   },
   "outputs": [],
   "source": [
    "assert hello('french') == 'Bonjour, tout le monde!'"
   ]
  },
  {
   "cell_type": "code",
   "execution_count": 5,
   "metadata": {
    "collapsed": true,
    "deletable": false,
    "editable": false,
    "nbgrader": {
     "checksum": "67392ed32a0b00b361923b83dcfaa2d1",
     "grade": true,
     "grade_id": "klingon",
     "locked": true,
     "points": 10,
     "schema_version": 1,
     "solution": false
    }
   },
   "outputs": [],
   "source": [
    "assert hello('klingon') is None"
   ]
  },
  {
   "cell_type": "markdown",
   "metadata": {
    "deletable": true,
    "editable": true
   },
   "source": [
    "##### <span style=\"color:red\">Documentation</span>"
   ]
  },
  {
   "cell_type": "markdown",
   "metadata": {
    "deletable": false,
    "editable": true,
    "nbgrader": {
     "checksum": "7fb07d4cbd4669f4c90222e579e4f701",
     "grade": true,
     "grade_id": "hello_doc",
     "locked": false,
     "points": 20,
     "schema_version": 1,
     "solution": true
    }
   },
   "source": [
    "Takes the name of a language as a string and returns \"Hello, World!\" in whichever language is inputted. if that language is not accounted for, the function returns None.\n",
    "\n",
    "(language) -> Hello, World in that language if that language is accounted for. \n",
    "\n",
    "(language) -> None if that language is not accounted for. "
   ]
  }
 ],
 "metadata": {
  "anaconda-cloud": {},
  "kernelspec": {
   "display_name": "Python 3",
   "language": "python",
   "name": "python3"
  },
  "language_info": {
   "codemirror_mode": {
    "name": "ipython",
    "version": 3
   },
   "file_extension": ".py",
   "mimetype": "text/x-python",
   "name": "python",
   "nbconvert_exporter": "python",
   "pygments_lexer": "ipython3",
   "version": "3.6.0"
  }
 },
 "nbformat": 4,
 "nbformat_minor": 0
}
