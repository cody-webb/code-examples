{
 "cells": [
  {
   "cell_type": "markdown",
   "metadata": {
    "deletable": true,
    "editable": true
   },
   "source": [
    "# <span style=\"color:teal;\">CIS 211 Project 5:  Building GUIs with Tk</span>"
   ]
  },
  {
   "cell_type": "markdown",
   "metadata": {
    "deletable": true,
    "editable": true
   },
   "source": [
    "##### Due 11:00 P.M. Friday May 5"
   ]
  },
  {
   "cell_type": "markdown",
   "metadata": {
    "deletable": true,
    "editable": true
   },
   "source": [
    "Reading:\n",
    "* [TkDocs - Tk Tutorial](http://www.tkdocs.com/tutorial/index.html)\n",
    "* [Tkinter Tutorial](http://www.python-course.eu/python_tkinter.php) from `python-course.eu`"
   ]
  },
  {
   "cell_type": "markdown",
   "metadata": {
    "deletable": true,
    "editable": true
   },
   "source": [
    "### <span style=\"color:teal\">Setup</span>"
   ]
  },
  {
   "cell_type": "markdown",
   "metadata": {
    "deletable": true,
    "editable": true
   },
   "source": [
    "Execute the following code cell to tell IPython you want to create windows with Tk and to import the `tkinter` library."
   ]
  },
  {
   "cell_type": "code",
   "execution_count": 2,
   "metadata": {
    "collapsed": true,
    "deletable": true,
    "editable": true
   },
   "outputs": [],
   "source": [
    "%gui tk\n",
    "import tkinter as tk"
   ]
  },
  {
   "cell_type": "markdown",
   "metadata": {
    "deletable": true,
    "editable": true
   },
   "source": [
    "<span style=\"color:red\">**Important:**</span> &nbsp; The autograder tests assume `tkinter` has been imported as shown above.  You should follow the same convention, and refer to widget classes as `tk.Label`, `tk.Entry`, and so on."
   ]
  },
  {
   "cell_type": "markdown",
   "metadata": {
    "deletable": true,
    "editable": true
   },
   "source": [
    "<span style=\"color:red\">**Important:**</span> &nbsp; The code cells where you define your GUIs contain assignment statements that create global variables.  For example, the first GUI is assigned to a variable named `hello_app`.  **Do not change these assignment statements**.  The autograder test cells will use these variables to access parts of your GUIs."
   ]
  },
  {
   "cell_type": "markdown",
   "metadata": {
    "deletable": true,
    "editable": true
   },
   "source": [
    "### <span style=\"color:teal\">1. &nbsp; Hello, World (10 points)</span>"
   ]
  },
  {
   "cell_type": "markdown",
   "metadata": {
    "deletable": true,
    "editable": true
   },
   "source": [
    "The code cell for this project has an assignment statement that creates a top level Tk application named `hello_app`.  \n",
    "\n",
    "Add statements to the code cell so the program has a label that says \"Hello, World\":\n",
    "\n",
    "<img src=\"http://www.cs.uoregon.edu/Classes/15S/cis211/images/hello_gui.png\"/>\n",
    "\n",
    "The example above uses 24-point Helvetica.  You can use the default text, but feel free to experiment with other fonts, font sizes, colors, *etc*.\n",
    "\n",
    "The goal for this part of the project is just to make sure you have all the necessary software installed and can create a simple application.  There is no documentation requirement for this part."
   ]
  },
  {
   "cell_type": "markdown",
   "metadata": {
    "deletable": true,
    "editable": true
   },
   "source": [
    "##### <span style=\"color:red\">Code:</span>"
   ]
  },
  {
   "cell_type": "code",
   "execution_count": 38,
   "metadata": {
    "collapsed": false,
    "deletable": false,
    "editable": true,
    "nbgrader": {
     "checksum": "aa5f23ecf0055cfa55cfa261bba403d5",
     "grade": true,
     "grade_id": "hello",
     "locked": false,
     "points": 4,
     "schema_version": 1,
     "solution": true
    }
   },
   "outputs": [],
   "source": [
    "hello_app = tk.Tk()\n",
    "hello = tk.Label(hello_app, text = \"Hello, World!\")\n",
    "hello.config(font = ('Papyrus', 72, 'bold'))\n",
    "hello.pack()"
   ]
  },
  {
   "cell_type": "markdown",
   "metadata": {
    "deletable": true,
    "editable": true
   },
   "source": [
    "##### <span style=\"color:red\">Autograder Tests:</span>"
   ]
  },
  {
   "cell_type": "code",
   "execution_count": 33,
   "metadata": {
    "collapsed": false,
    "deletable": false,
    "editable": false,
    "nbgrader": {
     "checksum": "db85c1cb41e92f3992983a80a464eb44",
     "grade": true,
     "grade_id": "hello_test_1",
     "locked": true,
     "points": 2,
     "schema_version": 1,
     "solution": false
    }
   },
   "outputs": [],
   "source": [
    "# The GUI should have a single widget\n",
    "widgets = list(hello_app.children.values())\n",
    "assert len(widgets) == 1"
   ]
  },
  {
   "cell_type": "code",
   "execution_count": 34,
   "metadata": {
    "collapsed": false,
    "deletable": false,
    "editable": false,
    "nbgrader": {
     "checksum": "d6260633f1d629a41fd99c9921ef725f",
     "grade": true,
     "grade_id": "hello_test_2",
     "locked": true,
     "points": 2,
     "schema_version": 1,
     "solution": false
    }
   },
   "outputs": [],
   "source": [
    "# Check to see if the widget is a Label\n",
    "widgets = list(hello_app.children.values())\n",
    "assert isinstance(widgets[0], tk.Label)"
   ]
  },
  {
   "cell_type": "code",
   "execution_count": 35,
   "metadata": {
    "collapsed": true,
    "deletable": false,
    "editable": false,
    "nbgrader": {
     "checksum": "68bf6396648369410a689cd19b99b7c0",
     "grade": true,
     "grade_id": "hello_test_3",
     "locked": true,
     "points": 2,
     "schema_version": 1,
     "solution": false
    }
   },
   "outputs": [],
   "source": [
    "# The text in the label should start with \"hello\" (upper or lower case)\n",
    "widgets = list(hello_app.children.values())\n",
    "assert widgets[0]['text'].lower().startswith('hello')"
   ]
  },
  {
   "cell_type": "markdown",
   "metadata": {
    "collapsed": true,
    "deletable": true,
    "editable": true
   },
   "source": [
    "### <span style=\"color:teal\">2. &nbsp; Payment Calculator (50 points)</span>"
   ]
  },
  {
   "cell_type": "markdown",
   "metadata": {
    "deletable": true,
    "editable": true
   },
   "source": [
    "Create a program that computes the monthly payment on a loan. The payment is a function of the loan amount, the annual interest rate, and the number of years to pay off the loan. To calculate the payment, first compute two values named $r$ and $p$, defined by these equations:\n",
    "\n",
    "$ r = ( \\textrm{rate} \\; / \\; 100 ) \\; / \\; 12 $\n",
    "\n",
    "$ p = 12 \\times \\textrm{years} $\n",
    "\n",
    "The monthly payment is then\n",
    "\n",
    "$$ \\textrm{payment} = \\frac{ r \\times \\textrm{amount} }{ 1 - (1 + r)^{-p} } $$\n",
    "\n",
    "For example, if you take out a 30-year loan for \\$150,000 at an annual rate of 4.5% your payment would be \\$760.03 per month.\n",
    "\n",
    "The GUI for this application should have four text entry boxes, and each box should have a label to its left that explains what the box holds.  The first three boxes are for the user to enter the loan amount, the interest rate, and the number of years to repay the loan. \n",
    "\n",
    "The GUI should have a button labeled “compute payment”. When the user clicks this button, your program should read the values of the three parameters, use the equations shown above to calculate the monthly payment, and display the payment amount in the fourth text entry box.\n",
    "\n",
    "<img src=\"http://www.cs.uoregon.edu/Classes/15S/cis211/images/payment_gui.png\"/>\n",
    "\n",
    "The code cell for this program has the outline for the program.  First fill in the body of the function named `monthly_payment` and make sure it computes the correct payment value given an amount, rate, and loan period.  When your write the button callback function have it call the `monthly_payment` function.\n",
    "\n",
    "Next add statements that create the labels, boxes, and button for the application.  When you create the Entry and Button widgets, make sure you save them in global variables with the following names so the autograder tests will succeed:\n",
    "* `amount`\n",
    "* `rate`\n",
    "* `years`\n",
    "* `payment`\n",
    "* `button`"
   ]
  },
  {
   "cell_type": "markdown",
   "metadata": {
    "deletable": true,
    "editable": true
   },
   "source": [
    "##### <span style=\"color:red\">Code:</span>"
   ]
  },
  {
   "cell_type": "code",
   "execution_count": 4,
   "metadata": {
    "collapsed": false,
    "deletable": false,
    "editable": true,
    "nbgrader": {
     "checksum": "eab526bb11e92e14ed91b981bfe85ca0",
     "grade": true,
     "grade_id": "payment",
     "locked": false,
     "points": 15,
     "schema_version": 1,
     "solution": true
    }
   },
   "outputs": [],
   "source": [
    "def monthly_payment(amt, pct, yrs): \n",
    "    '''\n",
    "    Given the amount of money, the interest rate, and number of years on the payment, returns a monthly payment.\n",
    "    \n",
    "    :param amt str/float/int: The amount of money that is being borrowed.\n",
    "    :param pct str/float/int: The interest rate in percentage.\n",
    "    :param yrs str/int: The number of years over which the payment will be made. \n",
    "    :return: Monthly payment based on the parameters given.\n",
    "    :rtype: float.\n",
    "    '''\n",
    "    r = (float(pct) / 100) / 12\n",
    "    p = float(yrs) * 12\n",
    "    m_payment = (r * float(amt)) / (1 - (1 + r) ** -p)\n",
    "    return m_payment\n",
    "\n",
    "def compute_payment_cb():\n",
    "    '''\n",
    "    Uses monthly_payment() to calculate the monthly payment based on the values input into the GUI. \n",
    "    Returns the monthly payment to the payment box of the GUI.\n",
    "    \n",
    "    :return: None.\n",
    "    :rtype: None.\n",
    "    '''\n",
    "    # YOUR CODE HERE\n",
    "    a = amount.get()\n",
    "    ra = rate.get()\n",
    "    y = years.get()\n",
    "    x = monthly_payment(a, ra, y)\n",
    "    payment.delete(0, tk.END)\n",
    "    payment.insert(0, \"${:.2f}\".format(x))\n",
    "\n",
    "payment_app = tk.Tk()\n",
    "\n",
    "amount_lab = tk.Label(payment_app, text = \"        Loan Amount:                                   \", font = (\"Comic Sans MS\", 30), fg = '#ff69b4', bg = \"#5A6351\")\n",
    "amount_lab.grid(row = 0, column = 0, padx = 40, pady = 10)\n",
    "amount = tk.Entry(payment_app)\n",
    "amount.grid(row = 0, column = 1, padx = 70, pady = 20)\n",
    "\n",
    "rate_lab = tk.Label(payment_app, text = \"                                  Interest Rate:  \", font = (\"Chalkduster\", 30), fg = '#ffff00', bg = '#e5e500')\n",
    "rate_lab.grid(row = 1, column = 0, padx = 0 , pady = 0)\n",
    "rate = tk.Entry(payment_app)\n",
    "rate.grid(row = 1, column = 1, padx = 20, pady = 20)\n",
    "\n",
    "years_lab = tk.Label(payment_app, text = \" Loan Period:                                                  \", font = ('Futura', 30), fg = '#00FA9A', bg = '#0000e5')\n",
    "years_lab.grid(row=2, column=0, padx = 20, pady = 0)\n",
    "years = tk.Entry(payment_app)\n",
    "years.grid(row=2,column=1, padx = 25, pady = 50)\n",
    "\n",
    "payment_lab = tk.Label(payment_app, text = \"               Payment:               \", font = ('Papyrus', 25, 'underline'), fg = '#D2691E', bg = '#83F52C')\n",
    "payment_lab.grid(row=3, column=0, padx = 60, pady = 60)\n",
    "payment = tk.Entry(payment_app)\n",
    "payment.grid(row=3, column=1, padx = 40, pady = 10)\n",
    "\n",
    "button = tk.Button(payment_app, text = \" Compute Payment  \", font = ('Times New Roman', 32, 'bold'), fg = '#ff0000', bg = '#000000', command = compute_payment_cb)\n",
    "button.grid(row=4, column = 0, columnspan = 2, pady = 10)"
   ]
  },
  {
   "cell_type": "markdown",
   "metadata": {
    "deletable": true,
    "editable": true
   },
   "source": [
    "##### <span style=\"color:red\">Autograder Tests:</span>"
   ]
  },
  {
   "cell_type": "code",
   "execution_count": 66,
   "metadata": {
    "collapsed": false,
    "deletable": false,
    "editable": false,
    "nbgrader": {
     "checksum": "7ff5c43f8e4a5523601a3f3b820f1b85",
     "grade": true,
     "grade_id": "payment_test_1",
     "locked": true,
     "points": 5,
     "schema_version": 1,
     "solution": false
    }
   },
   "outputs": [],
   "source": [
    "# Test the callback function to make sure it is computing payments accurately\n",
    "assert round(monthly_payment(20000, 3.0, 6), 2) == 303.87"
   ]
  },
  {
   "cell_type": "code",
   "execution_count": 67,
   "metadata": {
    "collapsed": false,
    "deletable": false,
    "editable": false,
    "nbgrader": {
     "checksum": "3727d9a38749194243980dd3acd6f3db",
     "grade": true,
     "grade_id": "payment_test_2",
     "locked": true,
     "points": 10,
     "schema_version": 1,
     "solution": false
    }
   },
   "outputs": [],
   "source": [
    "# Verify the number of widgets of each type\n",
    "counts = { tk.Label: 0, tk.Entry: 0, tk.Button: 0 }\n",
    "\n",
    "for x in payment_app.children.values():\n",
    "    counts[type(x)] += 1\n",
    "    \n",
    "assert counts == { tk.Label: 4, tk.Entry: 4, tk.Button: 1 }"
   ]
  },
  {
   "cell_type": "code",
   "execution_count": 68,
   "metadata": {
    "collapsed": false,
    "deletable": false,
    "editable": false,
    "nbgrader": {
     "checksum": "a0a8c7e57cc09455a4af1a766ed1c1b8",
     "grade": true,
     "grade_id": "payment_test_3",
     "locked": true,
     "points": 10,
     "schema_version": 1,
     "solution": false
    }
   },
   "outputs": [],
   "source": [
    "# Store values in the GUI, click the button, check the result\n",
    "amount.insert(0, '20000')\n",
    "rate.insert(0, '3.0')\n",
    "years.insert(0, '6')\n",
    "button.invoke()\n",
    "\n",
    "assert payment.get() == '$303.87'"
   ]
  },
  {
   "cell_type": "markdown",
   "metadata": {
    "deletable": true,
    "editable": true
   },
   "source": [
    "##### <span style=\"color:red\">Documentation:</span>"
   ]
  },
  {
   "cell_type": "markdown",
   "metadata": {
    "deletable": false,
    "editable": true,
    "nbgrader": {
     "checksum": "60009593bb2ea1b8f502e4c248cfff4e",
     "grade": true,
     "grade_id": "doc_2",
     "locked": false,
     "points": 10,
     "schema_version": 1,
     "solution": true
    }
   },
   "source": [
    "monthly_payment has three parameters: amt (the amount of money that is getting borrowed), pct (The interest rate expressed in percentage form, i.e. a value of 5 will be interpreted at 5% and a value of .05 will be used in the equations), and yrs (the number of years over which the loan will be paid. \n",
    "\n",
    "The function first defines r and p as they were in the equation given for ease of reading. Then m_payment is assigned to the value of the equation with the parameters plugged in. The function then returns m_payment.\n",
    "\n",
    "\n",
    "compute_payment_cb first defines a, ra, and y to be the values inputted into the GUI for amount, rate, and years respectively. ra was chosen instead of r in order to avoid confusion with the variable in monthly_payment. It then defines x to be the value of monthly_payment with those variables. It then deletes the content of the payment text entry box and inserts the value of x into it. \n",
    "\n",
    "\n",
    "payment_app is the top level application that we are basing the entire GUI on. \n",
    "\n",
    "amount_lab, rate_lab, years_lab, and payment_lab are the labels for amount, rate, years, and payment respectively. amount is a text entry box for the amount of money being borrowed, rate is a text entry box for the interest rate, years is a text entry box for the number of years that the loan is taking place, and payment is the text entry box where the car payment is going to appear. \n",
    "\n",
    "button is a button with \"Compute Payment\" on it that will be clicked when the person wants to compute their monthly payment. It executes compute_payment_cb. \n",
    "\n",
    "All of these have .grid() functions on them in order to create a more aestetically pleasing GUI.\n",
    "\n"
   ]
  },
  {
   "cell_type": "markdown",
   "metadata": {
    "deletable": true,
    "editable": true
   },
   "source": [
    "### <span style=\"color:teal\">3. &nbsp; Canvas (40 points)</span>"
   ]
  },
  {
   "cell_type": "markdown",
   "metadata": {
    "deletable": true,
    "editable": true
   },
   "source": [
    "Fill in the application named `canvas_app`.  The application will have just one widget, a Tk canvas with a size of $400 \\times 400$ pixels. \n",
    "\n",
    "You also need to fill in the body of the function named `make_circle` that will draw a circle on your canvas.  The parameters are a reference to the canvas widget, three integers for the size and location of the circle, and a string with a color name.\n",
    "\n",
    "Use the function to draw three circles on your canvas.  You can choose whatever size, location, and color you would like.\n",
    "\n",
    "<img src=\"http://www.cs.uoregon.edu/Classes/16W/cis211/images/gui/three_circles.png\"/>\n"
   ]
  },
  {
   "cell_type": "markdown",
   "metadata": {
    "deletable": true,
    "editable": true
   },
   "source": [
    "##### <span style=\"color:red\">Code:</span>"
   ]
  },
  {
   "cell_type": "code",
   "execution_count": 69,
   "metadata": {
    "collapsed": true,
    "deletable": false,
    "editable": true,
    "nbgrader": {
     "checksum": "9ac2605e44a6764059ef650db702727c",
     "grade": true,
     "grade_id": "canvas",
     "locked": false,
     "points": 15,
     "schema_version": 1,
     "solution": true
    }
   },
   "outputs": [],
   "source": [
    "def make_circle(canvas, radius, x, y, color):\n",
    "    drawing.create_oval((x-radius, y-radius), (x + radius, y+radius), fill = color)\n",
    "\n",
    "canvas_app = tk.Tk()\n",
    "drawing = tk.Canvas(canvas_app, height = 400, width = 400, background = \"lightgray\")\n",
    "drawing.pack()\n",
    "make_circle(canvas_app, 20, 100, 200, '#000000')\n",
    "make_circle(canvas_app, 50, 300, 300, '#FF0000')\n",
    "make_circle(canvas_app, 70, 200, 200, '#FFFF00')"
   ]
  },
  {
   "cell_type": "markdown",
   "metadata": {
    "deletable": true,
    "editable": true
   },
   "source": [
    "##### <span style=\"color:red\">Autograder Tests:</span>"
   ]
  },
  {
   "cell_type": "code",
   "execution_count": 70,
   "metadata": {
    "collapsed": false,
    "deletable": false,
    "editable": false,
    "nbgrader": {
     "checksum": "77f4b061be3cf212aacce9ab8f4e3ec1",
     "grade": true,
     "grade_id": "canvas_test_1",
     "locked": true,
     "points": 5,
     "schema_version": 1,
     "solution": false
    }
   },
   "outputs": [],
   "source": [
    "# See if the GUI has a Canvas widget\n",
    "widgets = list(canvas_app.children.values())\n",
    "assert len(widgets) == 1 and isinstance(widgets[0], tk.Canvas)"
   ]
  },
  {
   "cell_type": "code",
   "execution_count": 71,
   "metadata": {
    "collapsed": true,
    "deletable": false,
    "editable": false,
    "nbgrader": {
     "checksum": "7900236e8aa8f59bcd4f8c7144f41024",
     "grade": true,
     "grade_id": "canvas_test_2",
     "locked": true,
     "points": 10,
     "schema_version": 1,
     "solution": false
    }
   },
   "outputs": [],
   "source": [
    "# See if the canvas has circles on it\n",
    "widgets = list(canvas_app.children.values())\n",
    "for n in widgets[0].find_all():\n",
    "    assert widgets[0].type(n) == 'oval'"
   ]
  },
  {
   "cell_type": "markdown",
   "metadata": {
    "deletable": true,
    "editable": true
   },
   "source": [
    "##### <span style=\"color:red\">Documentation:</span>"
   ]
  },
  {
   "cell_type": "markdown",
   "metadata": {
    "deletable": false,
    "editable": true,
    "nbgrader": {
     "checksum": "3e0fe3aaa4b312a8077ba3a64115bf13",
     "grade": true,
     "grade_id": "doc_3",
     "locked": false,
     "points": 10,
     "schema_version": 1,
     "solution": true
    }
   },
   "source": [
    "make_circle uses tk.Canvas to create a circle with a specified radius, with a center at (x,y) with a color of the user's choosing. It uses create_oval to create edges of the circle at (x-radius, y-radius) and (x+radius, y+radius) to ensure that the (x,y) coordinate chosen is at the center. \n",
    "\n",
    "canvas_app is our top level application. \n",
    "\n",
    "drawing creates a 400 x 400 pixel canvas with a light grey background, which then is made visible by drawing.pack().\n",
    "Three circles are then made: a black circle at (100, 200) with radius 20, a red circle at (300,300) with radius 50, and a yellow circle at (200,200) with radius 70.   "
   ]
  }
 ],
 "metadata": {
  "anaconda-cloud": {},
  "kernelspec": {
   "display_name": "Python 3",
   "language": "python",
   "name": "python3"
  },
  "language_info": {
   "codemirror_mode": {
    "name": "ipython",
    "version": 3
   },
   "file_extension": ".py",
   "mimetype": "text/x-python",
   "name": "python",
   "nbconvert_exporter": "python",
   "pygments_lexer": "ipython3",
   "version": "3.6.0"
  }
 },
 "nbformat": 4,
 "nbformat_minor": 1
}
